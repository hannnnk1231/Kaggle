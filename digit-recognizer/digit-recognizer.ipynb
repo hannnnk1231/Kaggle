{
 "cells": [
  {
   "cell_type": "code",
   "execution_count": 1,
   "metadata": {},
   "outputs": [
    {
     "name": "stderr",
     "output_type": "stream",
     "text": [
      "Using TensorFlow backend.\n",
      "/usr/local/lib/python3.6/dist-packages/tensorflow/python/framework/dtypes.py:516: FutureWarning: Passing (type, 1) or '1type' as a synonym of type is deprecated; in a future version of numpy, it will be understood as (type, (1,)) / '(1,)type'.\n",
      "  _np_qint8 = np.dtype([(\"qint8\", np.int8, 1)])\n",
      "/usr/local/lib/python3.6/dist-packages/tensorflow/python/framework/dtypes.py:517: FutureWarning: Passing (type, 1) or '1type' as a synonym of type is deprecated; in a future version of numpy, it will be understood as (type, (1,)) / '(1,)type'.\n",
      "  _np_quint8 = np.dtype([(\"quint8\", np.uint8, 1)])\n",
      "/usr/local/lib/python3.6/dist-packages/tensorflow/python/framework/dtypes.py:518: FutureWarning: Passing (type, 1) or '1type' as a synonym of type is deprecated; in a future version of numpy, it will be understood as (type, (1,)) / '(1,)type'.\n",
      "  _np_qint16 = np.dtype([(\"qint16\", np.int16, 1)])\n",
      "/usr/local/lib/python3.6/dist-packages/tensorflow/python/framework/dtypes.py:519: FutureWarning: Passing (type, 1) or '1type' as a synonym of type is deprecated; in a future version of numpy, it will be understood as (type, (1,)) / '(1,)type'.\n",
      "  _np_quint16 = np.dtype([(\"quint16\", np.uint16, 1)])\n",
      "/usr/local/lib/python3.6/dist-packages/tensorflow/python/framework/dtypes.py:520: FutureWarning: Passing (type, 1) or '1type' as a synonym of type is deprecated; in a future version of numpy, it will be understood as (type, (1,)) / '(1,)type'.\n",
      "  _np_qint32 = np.dtype([(\"qint32\", np.int32, 1)])\n",
      "/usr/local/lib/python3.6/dist-packages/tensorflow/python/framework/dtypes.py:525: FutureWarning: Passing (type, 1) or '1type' as a synonym of type is deprecated; in a future version of numpy, it will be understood as (type, (1,)) / '(1,)type'.\n",
      "  np_resource = np.dtype([(\"resource\", np.ubyte, 1)])\n",
      "/usr/local/lib/python3.6/dist-packages/tensorboard/compat/tensorflow_stub/dtypes.py:541: FutureWarning: Passing (type, 1) or '1type' as a synonym of type is deprecated; in a future version of numpy, it will be understood as (type, (1,)) / '(1,)type'.\n",
      "  _np_qint8 = np.dtype([(\"qint8\", np.int8, 1)])\n",
      "/usr/local/lib/python3.6/dist-packages/tensorboard/compat/tensorflow_stub/dtypes.py:542: FutureWarning: Passing (type, 1) or '1type' as a synonym of type is deprecated; in a future version of numpy, it will be understood as (type, (1,)) / '(1,)type'.\n",
      "  _np_quint8 = np.dtype([(\"quint8\", np.uint8, 1)])\n",
      "/usr/local/lib/python3.6/dist-packages/tensorboard/compat/tensorflow_stub/dtypes.py:543: FutureWarning: Passing (type, 1) or '1type' as a synonym of type is deprecated; in a future version of numpy, it will be understood as (type, (1,)) / '(1,)type'.\n",
      "  _np_qint16 = np.dtype([(\"qint16\", np.int16, 1)])\n",
      "/usr/local/lib/python3.6/dist-packages/tensorboard/compat/tensorflow_stub/dtypes.py:544: FutureWarning: Passing (type, 1) or '1type' as a synonym of type is deprecated; in a future version of numpy, it will be understood as (type, (1,)) / '(1,)type'.\n",
      "  _np_quint16 = np.dtype([(\"quint16\", np.uint16, 1)])\n",
      "/usr/local/lib/python3.6/dist-packages/tensorboard/compat/tensorflow_stub/dtypes.py:545: FutureWarning: Passing (type, 1) or '1type' as a synonym of type is deprecated; in a future version of numpy, it will be understood as (type, (1,)) / '(1,)type'.\n",
      "  _np_qint32 = np.dtype([(\"qint32\", np.int32, 1)])\n",
      "/usr/local/lib/python3.6/dist-packages/tensorboard/compat/tensorflow_stub/dtypes.py:550: FutureWarning: Passing (type, 1) or '1type' as a synonym of type is deprecated; in a future version of numpy, it will be understood as (type, (1,)) / '(1,)type'.\n",
      "  np_resource = np.dtype([(\"resource\", np.ubyte, 1)])\n"
     ]
    }
   ],
   "source": [
    "import numpy as np\n",
    "import pandas as pd\n",
    "import matplotlib.pyplot as plt\n",
    "from sklearn.model_selection import train_test_split\n",
    "import keras\n",
    "from keras.utils.np_utils import to_categorical\n",
    "from keras import models\n",
    "from keras import layers\n",
    "from keras.preprocessing.image import ImageDataGenerator\n",
    "from keras.optimizers import RMSprop\n",
    "from keras.callbacks import LearningRateScheduler"
   ]
  },
  {
   "cell_type": "code",
   "execution_count": 2,
   "metadata": {},
   "outputs": [],
   "source": [
    "import tensorflow as tf\n",
    "config=tf.ConfigProto()\n",
    "config.gpu_options.allow_growth = True\n",
    "session=tf.Session(config=config)"
   ]
  },
  {
   "cell_type": "code",
   "execution_count": 3,
   "metadata": {},
   "outputs": [],
   "source": [
    "train=pd.read_csv('train.csv')\n",
    "test=pd.read_csv('test.csv')"
   ]
  },
  {
   "cell_type": "code",
   "execution_count": 4,
   "metadata": {},
   "outputs": [
    {
     "data": {
      "text/html": [
       "<div>\n",
       "<style scoped>\n",
       "    .dataframe tbody tr th:only-of-type {\n",
       "        vertical-align: middle;\n",
       "    }\n",
       "\n",
       "    .dataframe tbody tr th {\n",
       "        vertical-align: top;\n",
       "    }\n",
       "\n",
       "    .dataframe thead th {\n",
       "        text-align: right;\n",
       "    }\n",
       "</style>\n",
       "<table border=\"1\" class=\"dataframe\">\n",
       "  <thead>\n",
       "    <tr style=\"text-align: right;\">\n",
       "      <th></th>\n",
       "      <th>label</th>\n",
       "      <th>pixel0</th>\n",
       "      <th>pixel1</th>\n",
       "      <th>pixel2</th>\n",
       "      <th>pixel3</th>\n",
       "      <th>pixel4</th>\n",
       "      <th>pixel5</th>\n",
       "      <th>pixel6</th>\n",
       "      <th>pixel7</th>\n",
       "      <th>pixel8</th>\n",
       "      <th>...</th>\n",
       "      <th>pixel774</th>\n",
       "      <th>pixel775</th>\n",
       "      <th>pixel776</th>\n",
       "      <th>pixel777</th>\n",
       "      <th>pixel778</th>\n",
       "      <th>pixel779</th>\n",
       "      <th>pixel780</th>\n",
       "      <th>pixel781</th>\n",
       "      <th>pixel782</th>\n",
       "      <th>pixel783</th>\n",
       "    </tr>\n",
       "  </thead>\n",
       "  <tbody>\n",
       "    <tr>\n",
       "      <th>0</th>\n",
       "      <td>1</td>\n",
       "      <td>0</td>\n",
       "      <td>0</td>\n",
       "      <td>0</td>\n",
       "      <td>0</td>\n",
       "      <td>0</td>\n",
       "      <td>0</td>\n",
       "      <td>0</td>\n",
       "      <td>0</td>\n",
       "      <td>0</td>\n",
       "      <td>...</td>\n",
       "      <td>0</td>\n",
       "      <td>0</td>\n",
       "      <td>0</td>\n",
       "      <td>0</td>\n",
       "      <td>0</td>\n",
       "      <td>0</td>\n",
       "      <td>0</td>\n",
       "      <td>0</td>\n",
       "      <td>0</td>\n",
       "      <td>0</td>\n",
       "    </tr>\n",
       "    <tr>\n",
       "      <th>1</th>\n",
       "      <td>0</td>\n",
       "      <td>0</td>\n",
       "      <td>0</td>\n",
       "      <td>0</td>\n",
       "      <td>0</td>\n",
       "      <td>0</td>\n",
       "      <td>0</td>\n",
       "      <td>0</td>\n",
       "      <td>0</td>\n",
       "      <td>0</td>\n",
       "      <td>...</td>\n",
       "      <td>0</td>\n",
       "      <td>0</td>\n",
       "      <td>0</td>\n",
       "      <td>0</td>\n",
       "      <td>0</td>\n",
       "      <td>0</td>\n",
       "      <td>0</td>\n",
       "      <td>0</td>\n",
       "      <td>0</td>\n",
       "      <td>0</td>\n",
       "    </tr>\n",
       "    <tr>\n",
       "      <th>2</th>\n",
       "      <td>1</td>\n",
       "      <td>0</td>\n",
       "      <td>0</td>\n",
       "      <td>0</td>\n",
       "      <td>0</td>\n",
       "      <td>0</td>\n",
       "      <td>0</td>\n",
       "      <td>0</td>\n",
       "      <td>0</td>\n",
       "      <td>0</td>\n",
       "      <td>...</td>\n",
       "      <td>0</td>\n",
       "      <td>0</td>\n",
       "      <td>0</td>\n",
       "      <td>0</td>\n",
       "      <td>0</td>\n",
       "      <td>0</td>\n",
       "      <td>0</td>\n",
       "      <td>0</td>\n",
       "      <td>0</td>\n",
       "      <td>0</td>\n",
       "    </tr>\n",
       "    <tr>\n",
       "      <th>3</th>\n",
       "      <td>4</td>\n",
       "      <td>0</td>\n",
       "      <td>0</td>\n",
       "      <td>0</td>\n",
       "      <td>0</td>\n",
       "      <td>0</td>\n",
       "      <td>0</td>\n",
       "      <td>0</td>\n",
       "      <td>0</td>\n",
       "      <td>0</td>\n",
       "      <td>...</td>\n",
       "      <td>0</td>\n",
       "      <td>0</td>\n",
       "      <td>0</td>\n",
       "      <td>0</td>\n",
       "      <td>0</td>\n",
       "      <td>0</td>\n",
       "      <td>0</td>\n",
       "      <td>0</td>\n",
       "      <td>0</td>\n",
       "      <td>0</td>\n",
       "    </tr>\n",
       "    <tr>\n",
       "      <th>4</th>\n",
       "      <td>0</td>\n",
       "      <td>0</td>\n",
       "      <td>0</td>\n",
       "      <td>0</td>\n",
       "      <td>0</td>\n",
       "      <td>0</td>\n",
       "      <td>0</td>\n",
       "      <td>0</td>\n",
       "      <td>0</td>\n",
       "      <td>0</td>\n",
       "      <td>...</td>\n",
       "      <td>0</td>\n",
       "      <td>0</td>\n",
       "      <td>0</td>\n",
       "      <td>0</td>\n",
       "      <td>0</td>\n",
       "      <td>0</td>\n",
       "      <td>0</td>\n",
       "      <td>0</td>\n",
       "      <td>0</td>\n",
       "      <td>0</td>\n",
       "    </tr>\n",
       "  </tbody>\n",
       "</table>\n",
       "<p>5 rows × 785 columns</p>\n",
       "</div>"
      ],
      "text/plain": [
       "   label  pixel0  pixel1  pixel2  pixel3  pixel4  pixel5  pixel6  pixel7  \\\n",
       "0      1       0       0       0       0       0       0       0       0   \n",
       "1      0       0       0       0       0       0       0       0       0   \n",
       "2      1       0       0       0       0       0       0       0       0   \n",
       "3      4       0       0       0       0       0       0       0       0   \n",
       "4      0       0       0       0       0       0       0       0       0   \n",
       "\n",
       "   pixel8  ...  pixel774  pixel775  pixel776  pixel777  pixel778  pixel779  \\\n",
       "0       0  ...         0         0         0         0         0         0   \n",
       "1       0  ...         0         0         0         0         0         0   \n",
       "2       0  ...         0         0         0         0         0         0   \n",
       "3       0  ...         0         0         0         0         0         0   \n",
       "4       0  ...         0         0         0         0         0         0   \n",
       "\n",
       "   pixel780  pixel781  pixel782  pixel783  \n",
       "0         0         0         0         0  \n",
       "1         0         0         0         0  \n",
       "2         0         0         0         0  \n",
       "3         0         0         0         0  \n",
       "4         0         0         0         0  \n",
       "\n",
       "[5 rows x 785 columns]"
      ]
     },
     "execution_count": 4,
     "metadata": {},
     "output_type": "execute_result"
    }
   ],
   "source": [
    "train.head()"
   ]
  },
  {
   "cell_type": "code",
   "execution_count": 5,
   "metadata": {},
   "outputs": [],
   "source": [
    "Y_train=train['label']\n",
    "X_train=train.drop(labels=['label'],axis=1)\n",
    "test=test/255.0\n",
    "X_train=X_train.values.reshape(-1,28,28,1)\n",
    "test=test.values.reshape(-1,28,28,1)\n",
    "Y_train=to_categorical(Y_train, num_classes=10)\n",
    "X_train, X_val, Y_train, Y_val=train_test_split(X_train, Y_train, test_size=0.1, random_state=42)"
   ]
  },
  {
   "cell_type": "code",
   "execution_count": 6,
   "metadata": {},
   "outputs": [
    {
     "data": {
      "text/plain": [
       "(37800, 10)"
      ]
     },
     "execution_count": 6,
     "metadata": {},
     "output_type": "execute_result"
    }
   ],
   "source": [
    "Y_train.shape"
   ]
  },
  {
   "cell_type": "code",
   "execution_count": 7,
   "metadata": {},
   "outputs": [
    {
     "data": {
      "text/plain": [
       "<matplotlib.image.AxesImage at 0x7efbd2289d30>"
      ]
     },
     "execution_count": 7,
     "metadata": {},
     "output_type": "execute_result"
    },
    {
     "data": {
      "image/png": "[encoded data removed]",
      "text/plain": [
       "<matplotlib.figure.Figure at 0x7efb340e2d30>"
      ]
     },
     "metadata": {
      "needs_background": "light"
     },
     "output_type": "display_data"
    }
   ],
   "source": [
    "plt.imshow(X_train[0][:,:,0])"
   ]
  },
  {
   "cell_type": "code",
   "execution_count": 8,
   "metadata": {},
   "outputs": [],
   "source": [
    "train_datagen = ImageDataGenerator(rescale = 1./255.,\n",
    "                                   rotation_range = 10,\n",
    "                                   width_shift_range = 0.25,\n",
    "                                   height_shift_range = 0.25,\n",
    "                                   shear_range = 0.1,\n",
    "                                   zoom_range = 0.25,\n",
    "                                   horizontal_flip = False)"
   ]
  },
  {
   "cell_type": "code",
   "execution_count": 9,
   "metadata": {},
   "outputs": [],
   "source": [
    "test_datagen = ImageDataGenerator(rescale = 1./255.)"
   ]
  },
  {
   "cell_type": "code",
   "execution_count": 20,
   "metadata": {},
   "outputs": [],
   "source": [
    "keras.backend.clear_session()"
   ]
  },
  {
   "cell_type": "code",
   "execution_count": 10,
   "metadata": {},
   "outputs": [
    {
     "name": "stdout",
     "output_type": "stream",
     "text": [
      "WARNING:tensorflow:From /usr/local/lib/python3.6/dist-packages/Keras-2.2.5-py3.6.egg/keras/backend/tensorflow_backend.py:67: The name tf.get_default_graph is deprecated. Please use tf.compat.v1.get_default_graph instead.\n",
      "\n",
      "WARNING:tensorflow:From /usr/local/lib/python3.6/dist-packages/Keras-2.2.5-py3.6.egg/keras/backend/tensorflow_backend.py:548: The name tf.placeholder is deprecated. Please use tf.compat.v1.placeholder instead.\n",
      "\n",
      "WARNING:tensorflow:From /usr/local/lib/python3.6/dist-packages/Keras-2.2.5-py3.6.egg/keras/backend/tensorflow_backend.py:4439: The name tf.random_uniform is deprecated. Please use tf.random.uniform instead.\n",
      "\n",
      "WARNING:tensorflow:From /usr/local/lib/python3.6/dist-packages/Keras-2.2.5-py3.6.egg/keras/backend/tensorflow_backend.py:191: The name tf.get_default_session is deprecated. Please use tf.compat.v1.get_default_session instead.\n",
      "\n",
      "WARNING:tensorflow:From /usr/local/lib/python3.6/dist-packages/Keras-2.2.5-py3.6.egg/keras/backend/tensorflow_backend.py:198: The name tf.ConfigProto is deprecated. Please use tf.compat.v1.ConfigProto instead.\n",
      "\n",
      "WARNING:tensorflow:From /usr/local/lib/python3.6/dist-packages/Keras-2.2.5-py3.6.egg/keras/backend/tensorflow_backend.py:2048: The name tf.nn.fused_batch_norm is deprecated. Please use tf.compat.v1.nn.fused_batch_norm instead.\n",
      "\n",
      "WARNING:tensorflow:From /usr/local/lib/python3.6/dist-packages/Keras-2.2.5-py3.6.egg/keras/backend/tensorflow_backend.py:4274: The name tf.nn.max_pool is deprecated. Please use tf.nn.max_pool2d instead.\n",
      "\n",
      "WARNING:tensorflow:From /usr/local/lib/python3.6/dist-packages/Keras-2.2.5-py3.6.egg/keras/backend/tensorflow_backend.py:3740: calling dropout (from tensorflow.python.ops.nn_ops) with keep_prob is deprecated and will be removed in a future version.\n",
      "Instructions for updating:\n",
      "Please use `rate` instead of `keep_prob`. Rate should be set to `rate = 1 - keep_prob`.\n"
     ]
    }
   ],
   "source": [
    "model = models.Sequential()\n",
    "model.add(layers.Conv2D(64, (3,3), padding = 'same', input_shape = (28,28,1)))\n",
    "model.add(layers.BatchNormalization(momentum=0.5, epsilon=1e-5, gamma_initializer=\"uniform\"))\n",
    "model.add(layers.LeakyReLU(alpha=0.1))\n",
    "model.add(layers.Conv2D(64, (3,3), padding = 'same'))\n",
    "model.add(layers.BatchNormalization(momentum=0.5, epsilon=1e-5, gamma_initializer=\"uniform\"))\n",
    "model.add(layers.LeakyReLU(alpha=0.1))\n",
    "\n",
    "model.add(layers.MaxPool2D(2,2))\n",
    "model.add(layers.Dropout(0.5))\n",
    "\n",
    "model.add(layers.Conv2D(128, (3,3), padding = 'same'))\n",
    "model.add(layers.BatchNormalization(momentum=0.5, epsilon=1e-5, gamma_initializer=\"uniform\"))\n",
    "model.add(layers.LeakyReLU(alpha=0.1))\n",
    "model.add(layers.Conv2D(128, (3,3), padding = 'same'))\n",
    "model.add(layers.BatchNormalization(momentum=0.5, epsilon=1e-5, gamma_initializer=\"uniform\"))\n",
    "model.add(layers.LeakyReLU(alpha=0.1))\n",
    "\n",
    "model.add(layers.MaxPool2D(2,2))\n",
    "model.add(layers.Dropout(0.5))\n",
    "\n",
    "model.add(layers.Conv2D(256, (3,3), padding = 'same'))\n",
    "model.add(layers.BatchNormalization(momentum=0.5, epsilon=1e-5, gamma_initializer=\"uniform\"))\n",
    "model.add(layers.LeakyReLU(alpha=0.1))\n",
    "model.add(layers.Conv2D(256, (3,3), padding = 'same'))\n",
    "model.add(layers.BatchNormalization(momentum=0.5, epsilon=1e-5, gamma_initializer=\"uniform\"))\n",
    "model.add(layers.LeakyReLU(alpha=0.1))\n",
    "\n",
    "model.add(layers.MaxPool2D(2,2))\n",
    "model.add(layers.Dropout(0.5))\n",
    "\n",
    "model.add(layers.Flatten())\n",
    "model.add(layers.Dense(256))\n",
    "model.add(layers.LeakyReLU(alpha=0.1))\n",
    "model.add(layers.BatchNormalization())\n",
    "model.add(layers.Dense(10, activation = 'softmax'))"
   ]
  },
  {
   "cell_type": "code",
   "execution_count": 11,
   "metadata": {},
   "outputs": [
    {
     "name": "stdout",
     "output_type": "stream",
     "text": [
      "Model: \"sequential_1\"\n",
      "_________________________________________________________________\n",
      "Layer (type)                 Output Shape              Param #   \n",
      "=================================================================\n",
      "conv2d_1 (Conv2D)            (None, 28, 28, 64)        640       \n",
      "_________________________________________________________________\n",
      "batch_normalization_1 (Batch (None, 28, 28, 64)        256       \n",
      "_________________________________________________________________\n",
      "leaky_re_lu_1 (LeakyReLU)    (None, 28, 28, 64)        0         \n",
      "_________________________________________________________________\n",
      "conv2d_2 (Conv2D)            (None, 28, 28, 64)        36928     \n",
      "_________________________________________________________________\n",
      "batch_normalization_2 (Batch (None, 28, 28, 64)        256       \n",
      "_________________________________________________________________\n",
      "leaky_re_lu_2 (LeakyReLU)    (None, 28, 28, 64)        0         \n",
      "_________________________________________________________________\n",
      "max_pooling2d_1 (MaxPooling2 (None, 14, 14, 64)        0         \n",
      "_________________________________________________________________\n",
      "dropout_1 (Dropout)          (None, 14, 14, 64)        0         \n",
      "_________________________________________________________________\n",
      "conv2d_3 (Conv2D)            (None, 14, 14, 128)       73856     \n",
      "_________________________________________________________________\n",
      "batch_normalization_3 (Batch (None, 14, 14, 128)       512       \n",
      "_________________________________________________________________\n",
      "leaky_re_lu_3 (LeakyReLU)    (None, 14, 14, 128)       0         \n",
      "_________________________________________________________________\n",
      "conv2d_4 (Conv2D)            (None, 14, 14, 128)       147584    \n",
      "_________________________________________________________________\n",
      "batch_normalization_4 (Batch (None, 14, 14, 128)       512       \n",
      "_________________________________________________________________\n",
      "leaky_re_lu_4 (LeakyReLU)    (None, 14, 14, 128)       0         \n",
      "_________________________________________________________________\n",
      "max_pooling2d_2 (MaxPooling2 (None, 7, 7, 128)         0         \n",
      "_________________________________________________________________\n",
      "dropout_2 (Dropout)          (None, 7, 7, 128)         0         \n",
      "_________________________________________________________________\n",
      "conv2d_5 (Conv2D)            (None, 7, 7, 256)         295168    \n",
      "_________________________________________________________________\n",
      "batch_normalization_5 (Batch (None, 7, 7, 256)         1024      \n",
      "_________________________________________________________________\n",
      "leaky_re_lu_5 (LeakyReLU)    (None, 7, 7, 256)         0         \n",
      "_________________________________________________________________\n",
      "conv2d_6 (Conv2D)            (None, 7, 7, 256)         590080    \n",
      "_________________________________________________________________\n",
      "batch_normalization_6 (Batch (None, 7, 7, 256)         1024      \n",
      "_________________________________________________________________\n",
      "leaky_re_lu_6 (LeakyReLU)    (None, 7, 7, 256)         0         \n",
      "_________________________________________________________________\n",
      "max_pooling2d_3 (MaxPooling2 (None, 3, 3, 256)         0         \n",
      "_________________________________________________________________\n",
      "dropout_3 (Dropout)          (None, 3, 3, 256)         0         \n",
      "_________________________________________________________________\n",
      "flatten_1 (Flatten)          (None, 2304)              0         \n",
      "_________________________________________________________________\n",
      "dense_1 (Dense)              (None, 256)               590080    \n",
      "_________________________________________________________________\n",
      "leaky_re_lu_7 (LeakyReLU)    (None, 256)               0         \n",
      "_________________________________________________________________\n",
      "batch_normalization_7 (Batch (None, 256)               1024      \n",
      "_________________________________________________________________\n",
      "dense_2 (Dense)              (None, 10)                2570      \n",
      "=================================================================\n",
      "Total params: 1,741,514\n",
      "Trainable params: 1,739,210\n",
      "Non-trainable params: 2,304\n",
      "_________________________________________________________________\n"
     ]
    }
   ],
   "source": [
    "model.summary()"
   ]
  },
  {
   "cell_type": "code",
   "execution_count": 12,
   "metadata": {},
   "outputs": [],
   "source": [
    "initial_learningrate=2e-3\n",
    "batch_size = 2048\n",
    "epochs = 100\n",
    "input_shape = (28, 28, 1)"
   ]
  },
  {
   "cell_type": "code",
   "execution_count": 13,
   "metadata": {},
   "outputs": [],
   "source": [
    "def lr_decay(epoch):#lrv\n",
    "    return initial_learningrate * 0.99 ** epoch"
   ]
  },
  {
   "cell_type": "code",
   "execution_count": 14,
   "metadata": {},
   "outputs": [
    {
     "name": "stdout",
     "output_type": "stream",
     "text": [
      "WARNING:tensorflow:From /usr/local/lib/python3.6/dist-packages/Keras-2.2.5-py3.6.egg/keras/optimizers.py:793: The name tf.train.Optimizer is deprecated. Please use tf.compat.v1.train.Optimizer instead.\n",
      "\n",
      "WARNING:tensorflow:From /usr/local/lib/python3.6/dist-packages/tensorflow/python/ops/math_grad.py:1250: add_dispatch_support.<locals>.wrapper (from tensorflow.python.ops.array_ops) is deprecated and will be removed in a future version.\n",
      "Instructions for updating:\n",
      "Use tf.where in 2.0, which has the same broadcast rule as np.where\n",
      "Epoch 1/100\n",
      "100/100 [==============================] - 37s 369ms/step - loss: 0.8029 - acc: 0.7350 - val_loss: 0.0490 - val_acc: 0.9869\n",
      "Epoch 2/100\n",
      "100/100 [==============================] - 31s 310ms/step - loss: 0.1380 - acc: 0.9571 - val_loss: 0.0501 - val_acc: 0.9838\n",
      "Epoch 3/100\n",
      "100/100 [==============================] - 31s 311ms/step - loss: 0.0892 - acc: 0.9724 - val_loss: 0.0618 - val_acc: 0.9835\n",
      "Epoch 4/100\n",
      "100/100 [==============================] - 32s 316ms/step - loss: 0.0714 - acc: 0.9778 - val_loss: 0.0474 - val_acc: 0.9894\n",
      "Epoch 5/100\n",
      "100/100 [==============================] - 31s 313ms/step - loss: 0.0612 - acc: 0.9811 - val_loss: 0.0140 - val_acc: 0.9944\n",
      "Epoch 6/100\n",
      "100/100 [==============================] - 31s 314ms/step - loss: 0.0545 - acc: 0.9833 - val_loss: 0.0230 - val_acc: 0.9911\n",
      "Epoch 7/100\n",
      "100/100 [==============================] - 32s 315ms/step - loss: 0.0495 - acc: 0.9847 - val_loss: 0.0276 - val_acc: 0.9919\n",
      "Epoch 8/100\n",
      "100/100 [==============================] - 32s 318ms/step - loss: 0.0461 - acc: 0.9856 - val_loss: 0.0179 - val_acc: 0.9937\n",
      "Epoch 9/100\n",
      "100/100 [==============================] - 31s 315ms/step - loss: 0.0428 - acc: 0.9867 - val_loss: 0.0243 - val_acc: 0.9931\n",
      "Epoch 10/100\n",
      "100/100 [==============================] - 31s 315ms/step - loss: 0.0412 - acc: 0.9872 - val_loss: 0.0184 - val_acc: 0.9938\n",
      "Epoch 11/100\n",
      "100/100 [==============================] - 32s 317ms/step - loss: 0.0386 - acc: 0.9883 - val_loss: 0.0193 - val_acc: 0.9937\n",
      "Epoch 12/100\n",
      "100/100 [==============================] - 32s 316ms/step - loss: 0.0377 - acc: 0.9884 - val_loss: 0.0163 - val_acc: 0.9950\n",
      "Epoch 13/100\n",
      "100/100 [==============================] - 31s 313ms/step - loss: 0.0358 - acc: 0.9892 - val_loss: 0.0171 - val_acc: 0.9938\n",
      "Epoch 14/100\n",
      "100/100 [==============================] - 32s 316ms/step - loss: 0.0345 - acc: 0.9894 - val_loss: 0.0263 - val_acc: 0.9918\n",
      "Epoch 15/100\n",
      "100/100 [==============================] - 31s 315ms/step - loss: 0.0321 - acc: 0.9901 - val_loss: 0.0212 - val_acc: 0.9950\n",
      "Epoch 16/100\n",
      "100/100 [==============================] - 31s 314ms/step - loss: 0.0317 - acc: 0.9902 - val_loss: 0.0182 - val_acc: 0.9962\n",
      "Epoch 17/100\n",
      "100/100 [==============================] - 31s 315ms/step - loss: 0.0319 - acc: 0.9902 - val_loss: 0.0392 - val_acc: 0.9888\n",
      "Epoch 18/100\n",
      "100/100 [==============================] - 32s 316ms/step - loss: 0.0306 - acc: 0.9904 - val_loss: 0.0183 - val_acc: 0.9950\n",
      "Epoch 19/100\n",
      "100/100 [==============================] - 31s 314ms/step - loss: 0.0286 - acc: 0.9907 - val_loss: 0.0201 - val_acc: 0.9956\n",
      "Epoch 20/100\n",
      "100/100 [==============================] - 31s 313ms/step - loss: 0.0276 - acc: 0.9914 - val_loss: 0.0081 - val_acc: 0.9975\n",
      "Epoch 21/100\n",
      "100/100 [==============================] - 31s 315ms/step - loss: 0.0275 - acc: 0.9914 - val_loss: 0.0154 - val_acc: 0.9950\n",
      "Epoch 22/100\n",
      "100/100 [==============================] - 31s 315ms/step - loss: 0.0265 - acc: 0.9919 - val_loss: 0.0318 - val_acc: 0.9930\n",
      "Epoch 23/100\n",
      "100/100 [==============================] - 31s 313ms/step - loss: 0.0265 - acc: 0.9918 - val_loss: 0.0080 - val_acc: 0.9962\n",
      "Epoch 24/100\n",
      "100/100 [==============================] - 31s 313ms/step - loss: 0.0257 - acc: 0.9920 - val_loss: 0.0240 - val_acc: 0.9905\n",
      "Epoch 25/100\n",
      "100/100 [==============================] - 32s 315ms/step - loss: 0.0257 - acc: 0.9920 - val_loss: 0.0078 - val_acc: 0.9975\n",
      "Epoch 26/100\n",
      "100/100 [==============================] - 32s 315ms/step - loss: 0.0259 - acc: 0.9920 - val_loss: 0.0267 - val_acc: 0.9925\n",
      "Epoch 27/100\n",
      "100/100 [==============================] - 32s 316ms/step - loss: 0.0242 - acc: 0.9922 - val_loss: 0.0169 - val_acc: 0.9943\n",
      "Epoch 28/100\n",
      "100/100 [==============================] - 32s 315ms/step - loss: 0.0252 - acc: 0.9923 - val_loss: 0.0151 - val_acc: 0.9969\n",
      "Epoch 29/100\n",
      "100/100 [==============================] - 31s 314ms/step - loss: 0.0223 - acc: 0.9929 - val_loss: 0.0220 - val_acc: 0.9919\n",
      "Epoch 30/100\n",
      "100/100 [==============================] - 32s 316ms/step - loss: 0.0233 - acc: 0.9927 - val_loss: 0.0276 - val_acc: 0.9905\n",
      "Epoch 31/100\n",
      "100/100 [==============================] - 31s 314ms/step - loss: 0.0231 - acc: 0.9931 - val_loss: 0.0109 - val_acc: 0.9962\n",
      "Epoch 32/100\n",
      "100/100 [==============================] - 32s 317ms/step - loss: 0.0227 - acc: 0.9932 - val_loss: 0.0226 - val_acc: 0.9937\n",
      "Epoch 33/100\n",
      "100/100 [==============================] - 31s 314ms/step - loss: 0.0212 - acc: 0.9934 - val_loss: 0.0258 - val_acc: 0.9938\n",
      "Epoch 34/100\n",
      "100/100 [==============================] - 32s 316ms/step - loss: 0.0213 - acc: 0.9933 - val_loss: 0.0075 - val_acc: 0.9969\n",
      "Epoch 35/100\n",
      "100/100 [==============================] - 32s 317ms/step - loss: 0.0210 - acc: 0.9935 - val_loss: 0.0273 - val_acc: 0.9930\n",
      "Epoch 36/100\n",
      "100/100 [==============================] - 31s 314ms/step - loss: 0.0212 - acc: 0.9936 - val_loss: 0.0102 - val_acc: 0.9975\n",
      "Epoch 37/100\n",
      "100/100 [==============================] - 31s 314ms/step - loss: 0.0211 - acc: 0.9935 - val_loss: 0.0276 - val_acc: 0.9956\n",
      "Epoch 38/100\n",
      "100/100 [==============================] - 31s 312ms/step - loss: 0.0201 - acc: 0.9938 - val_loss: 0.0199 - val_acc: 0.9950\n",
      "Epoch 39/100\n",
      "100/100 [==============================] - 31s 313ms/step - loss: 0.0203 - acc: 0.9936 - val_loss: 0.0244 - val_acc: 0.9944\n",
      "Epoch 40/100\n",
      "100/100 [==============================] - 32s 315ms/step - loss: 0.0194 - acc: 0.9941 - val_loss: 0.0271 - val_acc: 0.9956\n",
      "Epoch 41/100\n",
      "100/100 [==============================] - 31s 314ms/step - loss: 0.0203 - acc: 0.9939 - val_loss: 0.0180 - val_acc: 0.9956\n",
      "Epoch 42/100\n",
      "100/100 [==============================] - 31s 313ms/step - loss: 0.0201 - acc: 0.9937 - val_loss: 0.0220 - val_acc: 0.9950\n",
      "Epoch 43/100\n",
      "100/100 [==============================] - 31s 314ms/step - loss: 0.0188 - acc: 0.9942 - val_loss: 0.0235 - val_acc: 0.9956\n",
      "Epoch 44/100\n",
      "100/100 [==============================] - 31s 313ms/step - loss: 0.0184 - acc: 0.9943 - val_loss: 0.0232 - val_acc: 0.9950\n",
      "Epoch 45/100\n",
      "100/100 [==============================] - 32s 316ms/step - loss: 0.0185 - acc: 0.9943 - val_loss: 0.0119 - val_acc: 0.9956\n",
      "Epoch 46/100\n",
      "100/100 [==============================] - 31s 314ms/step - loss: 0.0188 - acc: 0.9941 - val_loss: 0.0176 - val_acc: 0.9956\n",
      "Epoch 47/100\n",
      "100/100 [==============================] - 31s 315ms/step - loss: 0.0177 - acc: 0.9944 - val_loss: 0.0326 - val_acc: 0.9925\n",
      "Epoch 48/100\n",
      "100/100 [==============================] - 32s 317ms/step - loss: 0.0179 - acc: 0.9945 - val_loss: 0.0234 - val_acc: 0.9956\n",
      "Epoch 49/100\n",
      "100/100 [==============================] - 31s 312ms/step - loss: 0.0182 - acc: 0.9942 - val_loss: 0.0183 - val_acc: 0.9956\n",
      "Epoch 50/100\n",
      "100/100 [==============================] - 31s 314ms/step - loss: 0.0176 - acc: 0.9945 - val_loss: 0.0251 - val_acc: 0.9938\n",
      "Epoch 51/100\n",
      "100/100 [==============================] - 31s 315ms/step - loss: 0.0177 - acc: 0.9945 - val_loss: 0.0120 - val_acc: 0.9956\n",
      "Epoch 52/100\n",
      "100/100 [==============================] - 31s 315ms/step - loss: 0.0166 - acc: 0.9949 - val_loss: 0.0305 - val_acc: 0.9938\n",
      "Epoch 53/100\n",
      "100/100 [==============================] - 31s 314ms/step - loss: 0.0176 - acc: 0.9947 - val_loss: 0.0255 - val_acc: 0.9911\n",
      "Epoch 54/100\n",
      "100/100 [==============================] - 32s 315ms/step - loss: 0.0165 - acc: 0.9949 - val_loss: 0.0244 - val_acc: 0.9950\n",
      "Epoch 55/100\n",
      "100/100 [==============================] - 32s 316ms/step - loss: 0.0165 - acc: 0.9947 - val_loss: 0.0257 - val_acc: 0.9956\n",
      "Epoch 56/100\n",
      "100/100 [==============================] - 32s 317ms/step - loss: 0.0166 - acc: 0.9949 - val_loss: 0.0173 - val_acc: 0.9943\n"
     ]
    },
    {
     "name": "stdout",
     "output_type": "stream",
     "text": [
      "Epoch 57/100\n",
      "100/100 [==============================] - 31s 308ms/step - loss: 0.0155 - acc: 0.9951 - val_loss: 0.0187 - val_acc: 0.9944\n",
      "Epoch 58/100\n",
      "100/100 [==============================] - 31s 309ms/step - loss: 0.0162 - acc: 0.9950 - val_loss: 0.0297 - val_acc: 0.9931\n",
      "Epoch 59/100\n",
      "100/100 [==============================] - 31s 308ms/step - loss: 0.0163 - acc: 0.9950 - val_loss: 0.0160 - val_acc: 0.9962\n",
      "Epoch 60/100\n",
      "100/100 [==============================] - 31s 309ms/step - loss: 0.0164 - acc: 0.9946 - val_loss: 0.0187 - val_acc: 0.9950\n",
      "Epoch 61/100\n",
      "100/100 [==============================] - 31s 310ms/step - loss: 0.0152 - acc: 0.9952 - val_loss: 0.0251 - val_acc: 0.9949\n",
      "Epoch 62/100\n",
      "100/100 [==============================] - 31s 309ms/step - loss: 0.0159 - acc: 0.9950 - val_loss: 0.0194 - val_acc: 0.9931\n",
      "Epoch 63/100\n",
      "100/100 [==============================] - 31s 308ms/step - loss: 0.0152 - acc: 0.9950 - val_loss: 0.0134 - val_acc: 0.9956\n",
      "Epoch 64/100\n",
      "100/100 [==============================] - 31s 310ms/step - loss: 0.0148 - acc: 0.9951 - val_loss: 0.0323 - val_acc: 0.9943\n",
      "Epoch 65/100\n",
      "100/100 [==============================] - 31s 307ms/step - loss: 0.0152 - acc: 0.9953 - val_loss: 0.0101 - val_acc: 0.9975\n",
      "Epoch 66/100\n",
      "100/100 [==============================] - 31s 309ms/step - loss: 0.0157 - acc: 0.9952 - val_loss: 0.0152 - val_acc: 0.9975\n",
      "Epoch 67/100\n",
      "100/100 [==============================] - 31s 311ms/step - loss: 0.0149 - acc: 0.9953 - val_loss: 0.0157 - val_acc: 0.9962\n",
      "Epoch 68/100\n",
      "100/100 [==============================] - 31s 310ms/step - loss: 0.0144 - acc: 0.9953 - val_loss: 0.0332 - val_acc: 0.9944\n",
      "Epoch 69/100\n",
      "100/100 [==============================] - 31s 312ms/step - loss: 0.0149 - acc: 0.9953 - val_loss: 0.0119 - val_acc: 0.9968\n",
      "Epoch 70/100\n",
      "100/100 [==============================] - 31s 307ms/step - loss: 0.0148 - acc: 0.9956 - val_loss: 0.0283 - val_acc: 0.9944\n",
      "Epoch 71/100\n",
      "100/100 [==============================] - 31s 311ms/step - loss: 0.0147 - acc: 0.9953 - val_loss: 0.0126 - val_acc: 0.9969\n",
      "Epoch 72/100\n",
      "100/100 [==============================] - 31s 308ms/step - loss: 0.0144 - acc: 0.9954 - val_loss: 0.0182 - val_acc: 0.9949\n",
      "Epoch 73/100\n",
      "100/100 [==============================] - 31s 309ms/step - loss: 0.0141 - acc: 0.9954 - val_loss: 0.0127 - val_acc: 0.9950\n",
      "Epoch 74/100\n",
      "100/100 [==============================] - 31s 307ms/step - loss: 0.0140 - acc: 0.9954 - val_loss: 0.0188 - val_acc: 0.9975\n",
      "Epoch 75/100\n",
      "100/100 [==============================] - 31s 309ms/step - loss: 0.0140 - acc: 0.9956 - val_loss: 0.0234 - val_acc: 0.9975\n",
      "Epoch 76/100\n",
      "100/100 [==============================] - 31s 311ms/step - loss: 0.0150 - acc: 0.9953 - val_loss: 0.0180 - val_acc: 0.9938\n",
      "Epoch 77/100\n",
      "100/100 [==============================] - 31s 308ms/step - loss: 0.0127 - acc: 0.9961 - val_loss: 0.0173 - val_acc: 0.9968\n",
      "Epoch 78/100\n",
      "100/100 [==============================] - 31s 309ms/step - loss: 0.0135 - acc: 0.9957 - val_loss: 0.0132 - val_acc: 0.9962\n",
      "Epoch 79/100\n",
      "100/100 [==============================] - 31s 310ms/step - loss: 0.0137 - acc: 0.9958 - val_loss: 0.0203 - val_acc: 0.9956\n",
      "Epoch 80/100\n",
      "100/100 [==============================] - 31s 310ms/step - loss: 0.0138 - acc: 0.9957 - val_loss: 0.0220 - val_acc: 0.9924\n",
      "Epoch 81/100\n",
      "100/100 [==============================] - 31s 309ms/step - loss: 0.0142 - acc: 0.9956 - val_loss: 0.0223 - val_acc: 0.9962\n",
      "Epoch 82/100\n",
      "100/100 [==============================] - 31s 307ms/step - loss: 0.0137 - acc: 0.9956 - val_loss: 0.0359 - val_acc: 0.9943\n",
      "Epoch 83/100\n",
      "100/100 [==============================] - 31s 309ms/step - loss: 0.0133 - acc: 0.9958 - val_loss: 0.0235 - val_acc: 0.9956\n",
      "Epoch 84/100\n",
      "100/100 [==============================] - 31s 311ms/step - loss: 0.0136 - acc: 0.9955 - val_loss: 0.0227 - val_acc: 0.9956\n",
      "Epoch 85/100\n",
      "100/100 [==============================] - 31s 311ms/step - loss: 0.0131 - acc: 0.9959 - val_loss: 0.0114 - val_acc: 0.9968\n",
      "Epoch 86/100\n",
      "100/100 [==============================] - 31s 309ms/step - loss: 0.0127 - acc: 0.9960 - val_loss: 0.0288 - val_acc: 0.9944\n",
      "Epoch 87/100\n",
      "100/100 [==============================] - 31s 307ms/step - loss: 0.0130 - acc: 0.9959 - val_loss: 0.0210 - val_acc: 0.9956\n",
      "Epoch 88/100\n",
      "100/100 [==============================] - 31s 310ms/step - loss: 0.0124 - acc: 0.9961 - val_loss: 0.0251 - val_acc: 0.9949\n",
      "Epoch 89/100\n",
      "100/100 [==============================] - 31s 307ms/step - loss: 0.0127 - acc: 0.9960 - val_loss: 0.0183 - val_acc: 0.9962\n",
      "Epoch 90/100\n",
      "100/100 [==============================] - 31s 310ms/step - loss: 0.0122 - acc: 0.9963 - val_loss: 0.0171 - val_acc: 0.9962\n",
      "Epoch 91/100\n",
      "100/100 [==============================] - 31s 309ms/step - loss: 0.0137 - acc: 0.9956 - val_loss: 0.0145 - val_acc: 0.9969\n",
      "Epoch 92/100\n",
      "100/100 [==============================] - 31s 311ms/step - loss: 0.0127 - acc: 0.9960 - val_loss: 0.0178 - val_acc: 0.9962\n",
      "Epoch 93/100\n",
      "100/100 [==============================] - 31s 307ms/step - loss: 0.0126 - acc: 0.9961 - val_loss: 0.0328 - val_acc: 0.9956\n",
      "Epoch 94/100\n",
      "100/100 [==============================] - 31s 308ms/step - loss: 0.0122 - acc: 0.9961 - val_loss: 0.0225 - val_acc: 0.9962\n",
      "Epoch 95/100\n",
      "100/100 [==============================] - 31s 309ms/step - loss: 0.0130 - acc: 0.9959 - val_loss: 0.0186 - val_acc: 0.9956\n",
      "Epoch 96/100\n",
      "100/100 [==============================] - 31s 310ms/step - loss: 0.0123 - acc: 0.9963 - val_loss: 0.0304 - val_acc: 0.9949\n",
      "Epoch 97/100\n",
      "100/100 [==============================] - 31s 309ms/step - loss: 0.0117 - acc: 0.9962 - val_loss: 0.0188 - val_acc: 0.9975\n",
      "Epoch 98/100\n",
      "100/100 [==============================] - 32s 322ms/step - loss: 0.0122 - acc: 0.9962 - val_loss: 0.0298 - val_acc: 0.9943\n",
      "Epoch 99/100\n",
      "100/100 [==============================] - 32s 316ms/step - loss: 0.0117 - acc: 0.9964 - val_loss: 0.0187 - val_acc: 0.9950\n",
      "Epoch 100/100\n",
      "100/100 [==============================] - 32s 317ms/step - loss: 0.0118 - acc: 0.9964 - val_loss: 0.0190 - val_acc: 0.9950\n"
     ]
    }
   ],
   "source": [
    "import tensorflow as tf\n",
    "config=tf.ConfigProto()\n",
    "config.gpu_options.allow_growth = True\n",
    "session=tf.Session(config=config)\n",
    "\n",
    "model.compile(optimizer = RMSprop(lr=initial_learningrate) , loss = \"categorical_crossentropy\", metrics=[\"accuracy\"])\n",
    "history = model.fit_generator(train_datagen.flow(X_train,Y_train,batch_size=batch_size),\n",
    "                              steps_per_epoch=100,\n",
    "                              epochs=epochs,\n",
    "                              callbacks=[LearningRateScheduler(lr_decay)],\n",
    "                              validation_data=test_datagen.flow(X_val,Y_val),\n",
    "                              validation_steps=50)"
   ]
  },
  {
   "cell_type": "code",
   "execution_count": 15,
   "metadata": {},
   "outputs": [
    {
     "data": {
      "image/png": "[encoded data removed]",
      "text/plain": [
       "<matplotlib.figure.Figure at 0x7efb20540160>"
      ]
     },
     "metadata": {
      "needs_background": "light"
     },
     "output_type": "display_data"
    },
    {
     "data": {
      "image/png": "[encoded data removed]",
      "text/plain": [
       "<matplotlib.figure.Figure at 0x7efb20556278>"
      ]
     },
     "metadata": {
      "needs_background": "light"
     },
     "output_type": "display_data"
    }
   ],
   "source": [
    "acc=history.history['acc']\n",
    "#val_acc=history.history['val_acc']\n",
    "loss=history.history['loss']\n",
    "#val_loss=history.history['val_loss']\n",
    "\n",
    "epochs=range(1,len(acc)+1)\n",
    "\n",
    "plt.plot(epochs,acc,'bo',label='Training acc')\n",
    "#plt.plot(epochs,val_acc,'b',label='Validation acc')\n",
    "plt.title('Training and validation acc')\n",
    "plt.legend()\n",
    "\n",
    "plt.figure()\n",
    "\n",
    "plt.plot(epochs,loss,'bo',label='Training loss')\n",
    "#plt.plot(epochs,val_loss,'b',label='Validation loss')\n",
    "plt.title('Training and Validation loss')\n",
    "plt.legend()\n",
    "\n",
    "plt.show()"
   ]
  },
  {
   "cell_type": "code",
   "execution_count": 16,
   "metadata": {},
   "outputs": [],
   "source": [
    "results=model.predict(test)"
   ]
  },
  {
   "cell_type": "code",
   "execution_count": 17,
   "metadata": {},
   "outputs": [],
   "source": [
    "results=np.argmax(results,axis=1)"
   ]
  },
  {
   "cell_type": "code",
   "execution_count": 18,
   "metadata": {},
   "outputs": [],
   "source": [
    "results=pd.Series(results,name='Label')"
   ]
  },
  {
   "cell_type": "code",
   "execution_count": 19,
   "metadata": {},
   "outputs": [],
   "source": [
    "submission = pd.concat([pd.Series(range(1,28001),name = \"ImageId\"),results],axis = 1)\n",
    "\n",
    "submission.to_csv(\"cnn_mnist_datagen_2048_drop5_epo100.csv\",index=False)"
   ]
  },
  {
   "cell_type": "code",
   "execution_count": 17,
   "metadata": {},
   "outputs": [
    {
     "data": {
      "text/plain": [
       "(28000, 2)"
      ]
     },
     "execution_count": 17,
     "metadata": {},
     "output_type": "execute_result"
    }
   ],
   "source": [
    "submission.shape"
   ]
  },
  {
   "cell_type": "code",
   "execution_count": null,
   "metadata": {},
   "outputs": [],
   "source": []
  }
 ],
 "metadata": {
  "kernelspec": {
   "display_name": "Python 3",
   "language": "python",
   "name": "python3"
  },
  "language_info": {
   "codemirror_mode": {
    "name": "ipython",
    "version": 3
   },
   "file_extension": ".py",
   "mimetype": "text/x-python",
   "name": "python",
   "nbconvert_exporter": "python",
   "pygments_lexer": "ipython3",
   "version": "3.6.8"
  }
 },
 "nbformat": 4,
 "nbformat_minor": 2
}
