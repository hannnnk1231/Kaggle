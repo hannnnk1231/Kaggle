{
 "cells": [
  {
   "cell_type": "code",
   "execution_count": 2,
   "metadata": {},
   "outputs": [
    {
     "name": "stderr",
     "output_type": "stream",
     "text": [
      "Using TensorFlow backend.\n",
      "/usr/local/lib/python3.6/dist-packages/tensorflow/python/framework/dtypes.py:516: FutureWarning: Passing (type, 1) or '1type' as a synonym of type is deprecated; in a future version of numpy, it will be understood as (type, (1,)) / '(1,)type'.\n",
      "  _np_qint8 = np.dtype([(\"qint8\", np.int8, 1)])\n",
      "/usr/local/lib/python3.6/dist-packages/tensorflow/python/framework/dtypes.py:517: FutureWarning: Passing (type, 1) or '1type' as a synonym of type is deprecated; in a future version of numpy, it will be understood as (type, (1,)) / '(1,)type'.\n",
      "  _np_quint8 = np.dtype([(\"quint8\", np.uint8, 1)])\n",
      "/usr/local/lib/python3.6/dist-packages/tensorflow/python/framework/dtypes.py:518: FutureWarning: Passing (type, 1) or '1type' as a synonym of type is deprecated; in a future version of numpy, it will be understood as (type, (1,)) / '(1,)type'.\n",
      "  _np_qint16 = np.dtype([(\"qint16\", np.int16, 1)])\n",
      "/usr/local/lib/python3.6/dist-packages/tensorflow/python/framework/dtypes.py:519: FutureWarning: Passing (type, 1) or '1type' as a synonym of type is deprecated; in a future version of numpy, it will be understood as (type, (1,)) / '(1,)type'.\n",
      "  _np_quint16 = np.dtype([(\"quint16\", np.uint16, 1)])\n",
      "/usr/local/lib/python3.6/dist-packages/tensorflow/python/framework/dtypes.py:520: FutureWarning: Passing (type, 1) or '1type' as a synonym of type is deprecated; in a future version of numpy, it will be understood as (type, (1,)) / '(1,)type'.\n",
      "  _np_qint32 = np.dtype([(\"qint32\", np.int32, 1)])\n",
      "/usr/local/lib/python3.6/dist-packages/tensorflow/python/framework/dtypes.py:525: FutureWarning: Passing (type, 1) or '1type' as a synonym of type is deprecated; in a future version of numpy, it will be understood as (type, (1,)) / '(1,)type'.\n",
      "  np_resource = np.dtype([(\"resource\", np.ubyte, 1)])\n",
      "/usr/local/lib/python3.6/dist-packages/tensorboard/compat/tensorflow_stub/dtypes.py:541: FutureWarning: Passing (type, 1) or '1type' as a synonym of type is deprecated; in a future version of numpy, it will be understood as (type, (1,)) / '(1,)type'.\n",
      "  _np_qint8 = np.dtype([(\"qint8\", np.int8, 1)])\n",
      "/usr/local/lib/python3.6/dist-packages/tensorboard/compat/tensorflow_stub/dtypes.py:542: FutureWarning: Passing (type, 1) or '1type' as a synonym of type is deprecated; in a future version of numpy, it will be understood as (type, (1,)) / '(1,)type'.\n",
      "  _np_quint8 = np.dtype([(\"quint8\", np.uint8, 1)])\n",
      "/usr/local/lib/python3.6/dist-packages/tensorboard/compat/tensorflow_stub/dtypes.py:543: FutureWarning: Passing (type, 1) or '1type' as a synonym of type is deprecated; in a future version of numpy, it will be understood as (type, (1,)) / '(1,)type'.\n",
      "  _np_qint16 = np.dtype([(\"qint16\", np.int16, 1)])\n",
      "/usr/local/lib/python3.6/dist-packages/tensorboard/compat/tensorflow_stub/dtypes.py:544: FutureWarning: Passing (type, 1) or '1type' as a synonym of type is deprecated; in a future version of numpy, it will be understood as (type, (1,)) / '(1,)type'.\n",
      "  _np_quint16 = np.dtype([(\"quint16\", np.uint16, 1)])\n",
      "/usr/local/lib/python3.6/dist-packages/tensorboard/compat/tensorflow_stub/dtypes.py:545: FutureWarning: Passing (type, 1) or '1type' as a synonym of type is deprecated; in a future version of numpy, it will be understood as (type, (1,)) / '(1,)type'.\n",
      "  _np_qint32 = np.dtype([(\"qint32\", np.int32, 1)])\n",
      "/usr/local/lib/python3.6/dist-packages/tensorboard/compat/tensorflow_stub/dtypes.py:550: FutureWarning: Passing (type, 1) or '1type' as a synonym of type is deprecated; in a future version of numpy, it will be understood as (type, (1,)) / '(1,)type'.\n",
      "  np_resource = np.dtype([(\"resource\", np.ubyte, 1)])\n"
     ]
    }
   ],
   "source": [
    "import numpy as np\n",
    "import pandas as pd\n",
    "import matplotlib.pyplot as plt\n",
    "from sklearn.model_selection import train_test_split\n",
    "import keras\n",
    "from keras.utils.np_utils import to_categorical\n",
    "from keras import models\n",
    "from keras import layers\n",
    "from keras.preprocessing.image import ImageDataGenerator\n",
    "from keras.optimizers import RMSprop\n",
    "from keras.callbacks import LearningRateScheduler"
   ]
  },
  {
   "cell_type": "code",
   "execution_count": 3,
   "metadata": {},
   "outputs": [],
   "source": [
    "import tensorflow as tf\n",
    "config=tf.ConfigProto()\n",
    "config.gpu_options.allow_growth = True\n",
    "session=tf.Session(config=config)"
   ]
  },
  {
   "cell_type": "code",
   "execution_count": 4,
   "metadata": {},
   "outputs": [],
   "source": [
    "train = pd.read_csv('train.csv')\n",
    "test = pd.read_csv('test.csv')"
   ]
  },
  {
   "cell_type": "code",
   "execution_count": 5,
   "metadata": {},
   "outputs": [],
   "source": [
    "sample = pd.read_csv('sample_submission.csv')"
   ]
  },
  {
   "cell_type": "code",
   "execution_count": 6,
   "metadata": {},
   "outputs": [
    {
     "data": {
      "text/html": [
       "<div>\n",
       "<style scoped>\n",
       "    .dataframe tbody tr th:only-of-type {\n",
       "        vertical-align: middle;\n",
       "    }\n",
       "\n",
       "    .dataframe tbody tr th {\n",
       "        vertical-align: top;\n",
       "    }\n",
       "\n",
       "    .dataframe thead th {\n",
       "        text-align: right;\n",
       "    }\n",
       "</style>\n",
       "<table border=\"1\" class=\"dataframe\">\n",
       "  <thead>\n",
       "    <tr style=\"text-align: right;\">\n",
       "      <th></th>\n",
       "      <th>id</th>\n",
       "      <th>label</th>\n",
       "    </tr>\n",
       "  </thead>\n",
       "  <tbody>\n",
       "    <tr>\n",
       "      <th>0</th>\n",
       "      <td>0</td>\n",
       "      <td>5</td>\n",
       "    </tr>\n",
       "    <tr>\n",
       "      <th>1</th>\n",
       "      <td>1</td>\n",
       "      <td>5</td>\n",
       "    </tr>\n",
       "    <tr>\n",
       "      <th>2</th>\n",
       "      <td>2</td>\n",
       "      <td>5</td>\n",
       "    </tr>\n",
       "    <tr>\n",
       "      <th>3</th>\n",
       "      <td>3</td>\n",
       "      <td>5</td>\n",
       "    </tr>\n",
       "    <tr>\n",
       "      <th>4</th>\n",
       "      <td>4</td>\n",
       "      <td>5</td>\n",
       "    </tr>\n",
       "    <tr>\n",
       "      <th>...</th>\n",
       "      <td>...</td>\n",
       "      <td>...</td>\n",
       "    </tr>\n",
       "    <tr>\n",
       "      <th>4995</th>\n",
       "      <td>4995</td>\n",
       "      <td>5</td>\n",
       "    </tr>\n",
       "    <tr>\n",
       "      <th>4996</th>\n",
       "      <td>4996</td>\n",
       "      <td>5</td>\n",
       "    </tr>\n",
       "    <tr>\n",
       "      <th>4997</th>\n",
       "      <td>4997</td>\n",
       "      <td>5</td>\n",
       "    </tr>\n",
       "    <tr>\n",
       "      <th>4998</th>\n",
       "      <td>4998</td>\n",
       "      <td>5</td>\n",
       "    </tr>\n",
       "    <tr>\n",
       "      <th>4999</th>\n",
       "      <td>4999</td>\n",
       "      <td>5</td>\n",
       "    </tr>\n",
       "  </tbody>\n",
       "</table>\n",
       "<p>5000 rows × 2 columns</p>\n",
       "</div>"
      ],
      "text/plain": [
       "        id  label\n",
       "0        0      5\n",
       "1        1      5\n",
       "2        2      5\n",
       "3        3      5\n",
       "4        4      5\n",
       "...    ...    ...\n",
       "4995  4995      5\n",
       "4996  4996      5\n",
       "4997  4997      5\n",
       "4998  4998      5\n",
       "4999  4999      5\n",
       "\n",
       "[5000 rows x 2 columns]"
      ]
     },
     "execution_count": 6,
     "metadata": {},
     "output_type": "execute_result"
    }
   ],
   "source": [
    "sample"
   ]
  },
  {
   "cell_type": "code",
   "execution_count": 7,
   "metadata": {},
   "outputs": [
    {
     "data": {
      "text/plain": [
       "(60000, 785)"
      ]
     },
     "execution_count": 7,
     "metadata": {},
     "output_type": "execute_result"
    }
   ],
   "source": [
    "train.shape"
   ]
  },
  {
   "cell_type": "code",
   "execution_count": 8,
   "metadata": {},
   "outputs": [],
   "source": [
    "train_label = train['label']\n",
    "train_label = to_categorical(train_label,10)\n",
    "train_image = train.iloc[:,1:].to_numpy()\n",
    "test_image = test.iloc[:,1:].to_numpy()\n",
    "train_image = train_image.reshape(-1,28,28,1)\n",
    "test_image = test_image.reshape(-1,28,28,1)"
   ]
  },
  {
   "cell_type": "code",
   "execution_count": 9,
   "metadata": {},
   "outputs": [],
   "source": [
    "X_train, X_val, Y_train, Y_val = train_test_split(train_image, train_label, test_size = 0.1, random_state=42)"
   ]
  },
  {
   "cell_type": "code",
   "execution_count": 10,
   "metadata": {},
   "outputs": [
    {
     "data": {
      "text/plain": [
       "<matplotlib.image.AxesImage at 0x7efb182cc4e0>"
      ]
     },
     "execution_count": 10,
     "metadata": {},
     "output_type": "execute_result"
    },
    {
     "data": {
      "image/png": "[encoded data removed]",
      "text/plain": [
       "<matplotlib.figure.Figure at 0x7efb34117cc0>"
      ]
     },
     "metadata": {
      "needs_background": "light"
     },
     "output_type": "display_data"
    }
   ],
   "source": [
    "plt.imshow(X_train[1][:,:,0])"
   ]
  },
  {
   "cell_type": "code",
   "execution_count": 11,
   "metadata": {},
   "outputs": [
    {
     "data": {
      "text/plain": [
       "(6000, 28, 28, 1)"
      ]
     },
     "execution_count": 11,
     "metadata": {},
     "output_type": "execute_result"
    }
   ],
   "source": [
    "X_val.shape"
   ]
  },
  {
   "cell_type": "code",
   "execution_count": 12,
   "metadata": {},
   "outputs": [],
   "source": [
    "train_datagen = ImageDataGenerator(rescale = 1./255.,\n",
    "                                   rotation_range = 10,\n",
    "                                   width_shift_range = 0.25,\n",
    "                                   height_shift_range = 0.25,\n",
    "                                   shear_range = 0.1,\n",
    "                                   zoom_range = 0.25,\n",
    "                                   horizontal_flip = False)"
   ]
  },
  {
   "cell_type": "code",
   "execution_count": 13,
   "metadata": {},
   "outputs": [],
   "source": [
    "test_datagen = ImageDataGenerator(rescale = 1./255.)"
   ]
  },
  {
   "cell_type": "code",
   "execution_count": 46,
   "metadata": {},
   "outputs": [],
   "source": [
    "keras.backend.clear_session()"
   ]
  },
  {
   "cell_type": "code",
   "execution_count": 47,
   "metadata": {},
   "outputs": [],
   "source": [
    "model = models.Sequential()\n",
    "model.add(layers.Conv2D(64, (3,3), padding = 'same', input_shape = (28,28,1)))\n",
    "model.add(layers.BatchNormalization(momentum=0.5, epsilon=1e-5, gamma_initializer=\"uniform\"))\n",
    "model.add(layers.LeakyReLU(alpha=0.1))\n",
    "model.add(layers.Conv2D(64, (3,3), padding = 'same'))\n",
    "model.add(layers.BatchNormalization(momentum=0.5, epsilon=1e-5, gamma_initializer=\"uniform\"))\n",
    "model.add(layers.LeakyReLU(alpha=0.1))\n",
    "\n",
    "model.add(layers.MaxPool2D(2,2))\n",
    "model.add(layers.Dropout(0.5))\n",
    "\n",
    "model.add(layers.Conv2D(128, (3,3), padding = 'same'))\n",
    "model.add(layers.BatchNormalization(momentum=0.5, epsilon=1e-5, gamma_initializer=\"uniform\"))\n",
    "model.add(layers.LeakyReLU(alpha=0.1))\n",
    "model.add(layers.Conv2D(128, (3,3), padding = 'same'))\n",
    "model.add(layers.BatchNormalization(momentum=0.5, epsilon=1e-5, gamma_initializer=\"uniform\"))\n",
    "model.add(layers.LeakyReLU(alpha=0.1))\n",
    "\n",
    "model.add(layers.MaxPool2D(2,2))\n",
    "model.add(layers.Dropout(0.5))\n",
    "\n",
    "model.add(layers.Conv2D(256, (3,3), padding = 'same'))\n",
    "model.add(layers.BatchNormalization(momentum=0.5, epsilon=1e-5, gamma_initializer=\"uniform\"))\n",
    "model.add(layers.LeakyReLU(alpha=0.1))\n",
    "model.add(layers.Conv2D(256, (3,3), padding = 'same'))\n",
    "model.add(layers.BatchNormalization(momentum=0.5, epsilon=1e-5, gamma_initializer=\"uniform\"))\n",
    "model.add(layers.LeakyReLU(alpha=0.1))\n",
    "\n",
    "model.add(layers.MaxPool2D(2,2))\n",
    "model.add(layers.Dropout(0.5))\n",
    "\n",
    "model.add(layers.Flatten())\n",
    "model.add(layers.Dense(256))\n",
    "model.add(layers.LeakyReLU(alpha=0.1))\n",
    "model.add(layers.BatchNormalization())\n",
    "model.add(layers.Dense(10, activation = 'softmax'))"
   ]
  },
  {
   "cell_type": "code",
   "execution_count": 48,
   "metadata": {},
   "outputs": [
    {
     "name": "stdout",
     "output_type": "stream",
     "text": [
      "Model: \"sequential_1\"\n",
      "_________________________________________________________________\n",
      "Layer (type)                 Output Shape              Param #   \n",
      "=================================================================\n",
      "conv2d_1 (Conv2D)            (None, 28, 28, 64)        640       \n",
      "_________________________________________________________________\n",
      "batch_normalization_1 (Batch (None, 28, 28, 64)        256       \n",
      "_________________________________________________________________\n",
      "leaky_re_lu_1 (LeakyReLU)    (None, 28, 28, 64)        0         \n",
      "_________________________________________________________________\n",
      "conv2d_2 (Conv2D)            (None, 28, 28, 64)        36928     \n",
      "_________________________________________________________________\n",
      "batch_normalization_2 (Batch (None, 28, 28, 64)        256       \n",
      "_________________________________________________________________\n",
      "leaky_re_lu_2 (LeakyReLU)    (None, 28, 28, 64)        0         \n",
      "_________________________________________________________________\n",
      "max_pooling2d_1 (MaxPooling2 (None, 14, 14, 64)        0         \n",
      "_________________________________________________________________\n",
      "dropout_1 (Dropout)          (None, 14, 14, 64)        0         \n",
      "_________________________________________________________________\n",
      "conv2d_3 (Conv2D)            (None, 14, 14, 128)       73856     \n",
      "_________________________________________________________________\n",
      "batch_normalization_3 (Batch (None, 14, 14, 128)       512       \n",
      "_________________________________________________________________\n",
      "leaky_re_lu_3 (LeakyReLU)    (None, 14, 14, 128)       0         \n",
      "_________________________________________________________________\n",
      "conv2d_4 (Conv2D)            (None, 14, 14, 128)       147584    \n",
      "_________________________________________________________________\n",
      "batch_normalization_4 (Batch (None, 14, 14, 128)       512       \n",
      "_________________________________________________________________\n",
      "leaky_re_lu_4 (LeakyReLU)    (None, 14, 14, 128)       0         \n",
      "_________________________________________________________________\n",
      "max_pooling2d_2 (MaxPooling2 (None, 7, 7, 128)         0         \n",
      "_________________________________________________________________\n",
      "dropout_2 (Dropout)          (None, 7, 7, 128)         0         \n",
      "_________________________________________________________________\n",
      "conv2d_5 (Conv2D)            (None, 7, 7, 256)         295168    \n",
      "_________________________________________________________________\n",
      "batch_normalization_5 (Batch (None, 7, 7, 256)         1024      \n",
      "_________________________________________________________________\n",
      "leaky_re_lu_5 (LeakyReLU)    (None, 7, 7, 256)         0         \n",
      "_________________________________________________________________\n",
      "conv2d_6 (Conv2D)            (None, 7, 7, 256)         590080    \n",
      "_________________________________________________________________\n",
      "batch_normalization_6 (Batch (None, 7, 7, 256)         1024      \n",
      "_________________________________________________________________\n",
      "leaky_re_lu_6 (LeakyReLU)    (None, 7, 7, 256)         0         \n",
      "_________________________________________________________________\n",
      "max_pooling2d_3 (MaxPooling2 (None, 3, 3, 256)         0         \n",
      "_________________________________________________________________\n",
      "dropout_3 (Dropout)          (None, 3, 3, 256)         0         \n",
      "_________________________________________________________________\n",
      "flatten_1 (Flatten)          (None, 2304)              0         \n",
      "_________________________________________________________________\n",
      "dense_1 (Dense)              (None, 256)               590080    \n",
      "_________________________________________________________________\n",
      "leaky_re_lu_7 (LeakyReLU)    (None, 256)               0         \n",
      "_________________________________________________________________\n",
      "batch_normalization_7 (Batch (None, 256)               1024      \n",
      "_________________________________________________________________\n",
      "dense_2 (Dense)              (None, 10)                2570      \n",
      "=================================================================\n",
      "Total params: 1,741,514\n",
      "Trainable params: 1,739,210\n",
      "Non-trainable params: 2,304\n",
      "_________________________________________________________________\n"
     ]
    }
   ],
   "source": [
    "model.summary()"
   ]
  },
  {
   "cell_type": "code",
   "execution_count": 49,
   "metadata": {},
   "outputs": [],
   "source": [
    "initial_learningrate=2e-3\n",
    "batch_size = 1024\n",
    "epochs = 100"
   ]
  },
  {
   "cell_type": "code",
   "execution_count": 50,
   "metadata": {},
   "outputs": [],
   "source": [
    "def lr_decay(epoch):#lrv\n",
    "    return initial_learningrate * 0.99 ** epoch"
   ]
  },
  {
   "cell_type": "code",
   "execution_count": 51,
   "metadata": {},
   "outputs": [],
   "source": [
    "import tensorflow as tf\n",
    "config=tf.ConfigProto()\n",
    "config.gpu_options.allow_growth = True\n",
    "session=tf.Session(config=config)\n",
    "\n",
    "model.compile(optimizer = RMSprop(lr=initial_learningrate) , loss = \"categorical_crossentropy\", metrics=[\"accuracy\"])"
   ]
  },
  {
   "cell_type": "code",
   "execution_count": 52,
   "metadata": {},
   "outputs": [
    {
     "name": "stdout",
     "output_type": "stream",
     "text": [
      "Epoch 1/100\n",
      "100/100 [==============================] - 18s 177ms/step - loss: 0.6671 - acc: 0.7739 - val_loss: 0.0747 - val_acc: 0.9794\n",
      "Epoch 2/100\n",
      "100/100 [==============================] - 15s 152ms/step - loss: 0.1245 - acc: 0.9603 - val_loss: 0.0480 - val_acc: 0.9906\n",
      "Epoch 3/100\n",
      "100/100 [==============================] - 15s 154ms/step - loss: 0.0835 - acc: 0.9730 - val_loss: 0.0530 - val_acc: 0.9862\n",
      "Epoch 4/100\n",
      "100/100 [==============================] - 15s 153ms/step - loss: 0.0690 - acc: 0.9769 - val_loss: 0.0156 - val_acc: 0.9962\n",
      "Epoch 5/100\n",
      "100/100 [==============================] - 15s 153ms/step - loss: 0.0611 - acc: 0.9798 - val_loss: 0.0291 - val_acc: 0.9900\n",
      "Epoch 6/100\n",
      "100/100 [==============================] - 15s 153ms/step - loss: 0.0552 - acc: 0.9823 - val_loss: 0.0212 - val_acc: 0.9938\n",
      "Epoch 7/100\n",
      "100/100 [==============================] - 15s 152ms/step - loss: 0.0522 - acc: 0.9829 - val_loss: 0.0159 - val_acc: 0.9956\n",
      "Epoch 8/100\n",
      "100/100 [==============================] - 15s 153ms/step - loss: 0.0483 - acc: 0.9841 - val_loss: 0.0102 - val_acc: 0.9968\n",
      "Epoch 9/100\n",
      "100/100 [==============================] - 15s 152ms/step - loss: 0.0443 - acc: 0.9856 - val_loss: 0.0236 - val_acc: 0.9931\n",
      "Epoch 10/100\n",
      "100/100 [==============================] - 15s 154ms/step - loss: 0.0440 - acc: 0.9860 - val_loss: 0.0098 - val_acc: 0.9969\n",
      "Epoch 11/100\n",
      "100/100 [==============================] - 15s 153ms/step - loss: 0.0403 - acc: 0.9869 - val_loss: 0.0198 - val_acc: 0.9950\n",
      "Epoch 12/100\n",
      "100/100 [==============================] - 15s 152ms/step - loss: 0.0409 - acc: 0.9864 - val_loss: 0.0058 - val_acc: 0.9975\n",
      "Epoch 13/100\n",
      "100/100 [==============================] - 15s 154ms/step - loss: 0.0403 - acc: 0.9870 - val_loss: 0.0093 - val_acc: 0.9962\n",
      "Epoch 14/100\n",
      "100/100 [==============================] - 15s 152ms/step - loss: 0.0366 - acc: 0.9880 - val_loss: 0.0062 - val_acc: 0.9981\n",
      "Epoch 15/100\n",
      "100/100 [==============================] - 15s 152ms/step - loss: 0.0378 - acc: 0.9876 - val_loss: 0.0064 - val_acc: 0.9975\n",
      "Epoch 16/100\n",
      "100/100 [==============================] - 15s 153ms/step - loss: 0.0350 - acc: 0.9888 - val_loss: 0.0090 - val_acc: 0.9975\n",
      "Epoch 17/100\n",
      "100/100 [==============================] - 15s 151ms/step - loss: 0.0358 - acc: 0.9882 - val_loss: 0.0033 - val_acc: 0.9988\n",
      "Epoch 18/100\n",
      "100/100 [==============================] - 15s 153ms/step - loss: 0.0332 - acc: 0.9891 - val_loss: 0.0161 - val_acc: 0.9950\n",
      "Epoch 19/100\n",
      "100/100 [==============================] - 15s 152ms/step - loss: 0.0331 - acc: 0.9893 - val_loss: 0.0091 - val_acc: 0.9981\n",
      "Epoch 20/100\n",
      "100/100 [==============================] - 15s 152ms/step - loss: 0.0337 - acc: 0.9891 - val_loss: 0.0089 - val_acc: 0.9962\n",
      "Epoch 21/100\n",
      "100/100 [==============================] - 16s 155ms/step - loss: 0.0312 - acc: 0.9898 - val_loss: 0.0071 - val_acc: 0.9975\n",
      "Epoch 22/100\n",
      "100/100 [==============================] - 16s 155ms/step - loss: 0.0317 - acc: 0.9894 - val_loss: 0.0095 - val_acc: 0.9962\n",
      "Epoch 23/100\n",
      "100/100 [==============================] - 16s 156ms/step - loss: 0.0322 - acc: 0.9895 - val_loss: 0.0061 - val_acc: 0.9975\n",
      "Epoch 24/100\n",
      "100/100 [==============================] - 15s 154ms/step - loss: 0.0303 - acc: 0.9901 - val_loss: 0.0068 - val_acc: 0.9981\n",
      "Epoch 25/100\n",
      "100/100 [==============================] - 16s 155ms/step - loss: 0.0306 - acc: 0.9898 - val_loss: 0.0077 - val_acc: 0.9962\n",
      "Epoch 26/100\n",
      "100/100 [==============================] - 15s 155ms/step - loss: 0.0303 - acc: 0.9898 - val_loss: 0.0041 - val_acc: 0.9988\n",
      "Epoch 27/100\n",
      "100/100 [==============================] - 15s 153ms/step - loss: 0.0295 - acc: 0.9903 - val_loss: 0.0067 - val_acc: 0.9981\n",
      "Epoch 28/100\n",
      "100/100 [==============================] - 15s 154ms/step - loss: 0.0281 - acc: 0.9908 - val_loss: 0.0074 - val_acc: 0.9981\n",
      "Epoch 29/100\n",
      "100/100 [==============================] - 15s 155ms/step - loss: 0.0281 - acc: 0.9907 - val_loss: 0.0038 - val_acc: 0.9988\n",
      "Epoch 30/100\n",
      "100/100 [==============================] - 15s 154ms/step - loss: 0.0272 - acc: 0.9906 - val_loss: 0.0092 - val_acc: 0.9975\n",
      "Epoch 31/100\n",
      "100/100 [==============================] - 15s 155ms/step - loss: 0.0292 - acc: 0.9903 - val_loss: 0.0036 - val_acc: 0.9975\n",
      "Epoch 32/100\n",
      "100/100 [==============================] - 15s 155ms/step - loss: 0.0274 - acc: 0.9909 - val_loss: 0.0150 - val_acc: 0.9950\n",
      "Epoch 33/100\n",
      "100/100 [==============================] - 15s 152ms/step - loss: 0.0257 - acc: 0.9914 - val_loss: 0.0036 - val_acc: 0.9988\n",
      "Epoch 34/100\n",
      "100/100 [==============================] - 15s 154ms/step - loss: 0.0259 - acc: 0.9914 - val_loss: 7.3018e-04 - val_acc: 1.0000\n",
      "Epoch 35/100\n",
      "100/100 [==============================] - 15s 154ms/step - loss: 0.0267 - acc: 0.9910 - val_loss: 0.0016 - val_acc: 0.9994\n",
      "Epoch 36/100\n",
      "100/100 [==============================] - 15s 153ms/step - loss: 0.0267 - acc: 0.9912 - val_loss: 0.0079 - val_acc: 0.9944\n",
      "Epoch 37/100\n",
      "100/100 [==============================] - 15s 154ms/step - loss: 0.0263 - acc: 0.9916 - val_loss: 0.0036 - val_acc: 0.9981\n",
      "Epoch 38/100\n",
      "100/100 [==============================] - 15s 154ms/step - loss: 0.0247 - acc: 0.9918 - val_loss: 0.0072 - val_acc: 0.9975\n",
      "Epoch 39/100\n",
      "100/100 [==============================] - 15s 153ms/step - loss: 0.0246 - acc: 0.9920 - val_loss: 0.0066 - val_acc: 0.9981\n",
      "Epoch 40/100\n",
      "100/100 [==============================] - 15s 151ms/step - loss: 0.0253 - acc: 0.9917 - val_loss: 0.0066 - val_acc: 0.9981\n",
      "Epoch 41/100\n",
      "100/100 [==============================] - 15s 153ms/step - loss: 0.0236 - acc: 0.9922 - val_loss: 0.0042 - val_acc: 0.9988\n",
      "Epoch 42/100\n",
      "100/100 [==============================] - 15s 154ms/step - loss: 0.0230 - acc: 0.9922 - val_loss: 0.0040 - val_acc: 0.9987\n",
      "Epoch 43/100\n",
      "100/100 [==============================] - 15s 152ms/step - loss: 0.0256 - acc: 0.9916 - val_loss: 0.0065 - val_acc: 0.9975\n",
      "Epoch 44/100\n",
      "100/100 [==============================] - 15s 152ms/step - loss: 0.0243 - acc: 0.9921 - val_loss: 0.0021 - val_acc: 0.9994\n",
      "Epoch 45/100\n",
      "100/100 [==============================] - 15s 152ms/step - loss: 0.0235 - acc: 0.9925 - val_loss: 0.0080 - val_acc: 0.9981\n",
      "Epoch 46/100\n",
      "100/100 [==============================] - 15s 155ms/step - loss: 0.0239 - acc: 0.9922 - val_loss: 0.0022 - val_acc: 0.9994\n",
      "Epoch 47/100\n",
      "100/100 [==============================] - 15s 153ms/step - loss: 0.0233 - acc: 0.9925 - val_loss: 0.0053 - val_acc: 0.9988\n",
      "Epoch 48/100\n",
      "100/100 [==============================] - 15s 153ms/step - loss: 0.0228 - acc: 0.9928 - val_loss: 0.0017 - val_acc: 0.9988\n",
      "Epoch 49/100\n",
      "100/100 [==============================] - 16s 156ms/step - loss: 0.0229 - acc: 0.9926 - val_loss: 0.0058 - val_acc: 0.9975\n",
      "Epoch 50/100\n",
      "100/100 [==============================] - 15s 152ms/step - loss: 0.0235 - acc: 0.9922 - val_loss: 0.0039 - val_acc: 0.9981\n",
      "Epoch 51/100\n",
      "100/100 [==============================] - 15s 152ms/step - loss: 0.0220 - acc: 0.9928 - val_loss: 0.0024 - val_acc: 0.9994\n",
      "Epoch 52/100\n",
      "100/100 [==============================] - 15s 153ms/step - loss: 0.0211 - acc: 0.9930 - val_loss: 0.0064 - val_acc: 0.9975\n",
      "Epoch 53/100\n",
      "100/100 [==============================] - 15s 153ms/step - loss: 0.0231 - acc: 0.9921 - val_loss: 0.0054 - val_acc: 0.9981\n",
      "Epoch 54/100\n",
      "100/100 [==============================] - 16s 156ms/step - loss: 0.0211 - acc: 0.9931 - val_loss: 0.0031 - val_acc: 0.9981\n",
      "Epoch 55/100\n",
      "100/100 [==============================] - 15s 154ms/step - loss: 0.0228 - acc: 0.9926 - val_loss: 0.0049 - val_acc: 0.9981\n",
      "Epoch 56/100\n",
      "100/100 [==============================] - 15s 153ms/step - loss: 0.0217 - acc: 0.9929 - val_loss: 0.0023 - val_acc: 0.9988\n",
      "Epoch 57/100\n",
      "100/100 [==============================] - 15s 155ms/step - loss: 0.0227 - acc: 0.9927 - val_loss: 0.0036 - val_acc: 0.9994\n",
      "Epoch 58/100\n",
      "100/100 [==============================] - 15s 154ms/step - loss: 0.0215 - acc: 0.9927 - val_loss: 0.0045 - val_acc: 0.9988\n",
      "Epoch 59/100\n",
      "100/100 [==============================] - 15s 155ms/step - loss: 0.0213 - acc: 0.9930 - val_loss: 0.0019 - val_acc: 0.9994\n",
      "Epoch 60/100\n",
      "100/100 [==============================] - 15s 154ms/step - loss: 0.0226 - acc: 0.9929 - val_loss: 0.0045 - val_acc: 0.9975\n"
     ]
    },
    {
     "name": "stdout",
     "output_type": "stream",
     "text": [
      "Epoch 61/100\n",
      "100/100 [==============================] - 15s 154ms/step - loss: 0.0221 - acc: 0.9927 - val_loss: 0.0017 - val_acc: 0.9994\n",
      "Epoch 62/100\n",
      "100/100 [==============================] - 15s 153ms/step - loss: 0.0204 - acc: 0.9933 - val_loss: 0.0038 - val_acc: 0.9988\n",
      "Epoch 63/100\n",
      "100/100 [==============================] - 15s 153ms/step - loss: 0.0213 - acc: 0.9932 - val_loss: 0.0028 - val_acc: 0.9988\n",
      "Epoch 64/100\n",
      "100/100 [==============================] - 15s 154ms/step - loss: 0.0213 - acc: 0.9930 - val_loss: 0.0012 - val_acc: 0.9994\n",
      "Epoch 65/100\n",
      "100/100 [==============================] - 15s 154ms/step - loss: 0.0200 - acc: 0.9935 - val_loss: 0.0039 - val_acc: 0.9981\n",
      "Epoch 66/100\n",
      "100/100 [==============================] - 15s 154ms/step - loss: 0.0204 - acc: 0.9932 - val_loss: 0.0013 - val_acc: 1.0000\n",
      "Epoch 67/100\n",
      "100/100 [==============================] - 15s 153ms/step - loss: 0.0206 - acc: 0.9931 - val_loss: 0.0044 - val_acc: 0.9981\n",
      "Epoch 68/100\n",
      "100/100 [==============================] - 15s 154ms/step - loss: 0.0202 - acc: 0.9933 - val_loss: 0.0024 - val_acc: 0.9994\n",
      "Epoch 69/100\n",
      "100/100 [==============================] - 15s 153ms/step - loss: 0.0196 - acc: 0.9935 - val_loss: 0.0045 - val_acc: 0.9994\n",
      "Epoch 70/100\n",
      "100/100 [==============================] - 15s 154ms/step - loss: 0.0200 - acc: 0.9931 - val_loss: 0.0068 - val_acc: 0.9962\n",
      "Epoch 71/100\n",
      "100/100 [==============================] - 15s 154ms/step - loss: 0.0199 - acc: 0.9935 - val_loss: 0.0012 - val_acc: 1.0000\n",
      "Epoch 72/100\n",
      "100/100 [==============================] - 16s 155ms/step - loss: 0.0203 - acc: 0.9933 - val_loss: 0.0027 - val_acc: 0.9994\n",
      "Epoch 73/100\n",
      "100/100 [==============================] - 15s 153ms/step - loss: 0.0197 - acc: 0.9936 - val_loss: 0.0026 - val_acc: 0.9994\n",
      "Epoch 74/100\n",
      "100/100 [==============================] - 15s 152ms/step - loss: 0.0192 - acc: 0.9937 - val_loss: 7.2329e-04 - val_acc: 1.0000\n",
      "Epoch 75/100\n",
      "100/100 [==============================] - 15s 153ms/step - loss: 0.0194 - acc: 0.9936 - val_loss: 0.0040 - val_acc: 0.9988\n",
      "Epoch 76/100\n",
      "100/100 [==============================] - 15s 155ms/step - loss: 0.0194 - acc: 0.9936 - val_loss: 0.0032 - val_acc: 0.9994\n",
      "Epoch 77/100\n",
      "100/100 [==============================] - 15s 152ms/step - loss: 0.0196 - acc: 0.9936 - val_loss: 0.0060 - val_acc: 0.9988\n",
      "Epoch 78/100\n",
      "100/100 [==============================] - 15s 152ms/step - loss: 0.0194 - acc: 0.9936 - val_loss: 0.0015 - val_acc: 0.9994\n",
      "Epoch 79/100\n",
      "100/100 [==============================] - 15s 152ms/step - loss: 0.0193 - acc: 0.9937 - val_loss: 0.0037 - val_acc: 0.9987\n",
      "Epoch 80/100\n",
      "100/100 [==============================] - 15s 153ms/step - loss: 0.0199 - acc: 0.9935 - val_loss: 0.0031 - val_acc: 0.9994\n",
      "Epoch 81/100\n",
      "100/100 [==============================] - 15s 153ms/step - loss: 0.0184 - acc: 0.9940 - val_loss: 0.0028 - val_acc: 0.9988\n",
      "Epoch 82/100\n",
      "100/100 [==============================] - 15s 151ms/step - loss: 0.0189 - acc: 0.9937 - val_loss: 0.0017 - val_acc: 1.0000\n",
      "Epoch 83/100\n",
      "100/100 [==============================] - 15s 153ms/step - loss: 0.0193 - acc: 0.9935 - val_loss: 9.4902e-04 - val_acc: 1.0000\n",
      "Epoch 84/100\n",
      "100/100 [==============================] - 15s 152ms/step - loss: 0.0189 - acc: 0.9937 - val_loss: 0.0034 - val_acc: 0.9988\n",
      "Epoch 85/100\n",
      "100/100 [==============================] - 15s 152ms/step - loss: 0.0187 - acc: 0.9938 - val_loss: 3.6443e-04 - val_acc: 1.0000\n",
      "Epoch 86/100\n",
      "100/100 [==============================] - 15s 152ms/step - loss: 0.0192 - acc: 0.9935 - val_loss: 0.0033 - val_acc: 0.9988\n",
      "Epoch 87/100\n",
      "100/100 [==============================] - 15s 153ms/step - loss: 0.0182 - acc: 0.9938 - val_loss: 0.0047 - val_acc: 0.9981\n",
      "Epoch 88/100\n",
      "100/100 [==============================] - 15s 153ms/step - loss: 0.0182 - acc: 0.9939 - val_loss: 0.0041 - val_acc: 0.9988\n",
      "Epoch 89/100\n",
      "100/100 [==============================] - 15s 154ms/step - loss: 0.0182 - acc: 0.9940 - val_loss: 0.0028 - val_acc: 0.9988\n",
      "Epoch 90/100\n",
      "100/100 [==============================] - 15s 155ms/step - loss: 0.0183 - acc: 0.9938 - val_loss: 0.0013 - val_acc: 1.0000\n",
      "Epoch 91/100\n",
      "100/100 [==============================] - 15s 153ms/step - loss: 0.0172 - acc: 0.9944 - val_loss: 0.0019 - val_acc: 0.9987\n",
      "Epoch 92/100\n",
      "100/100 [==============================] - 15s 151ms/step - loss: 0.0182 - acc: 0.9940 - val_loss: 0.0032 - val_acc: 0.9994\n",
      "Epoch 93/100\n",
      "100/100 [==============================] - 15s 154ms/step - loss: 0.0171 - acc: 0.9942 - val_loss: 0.0032 - val_acc: 0.9981\n",
      "Epoch 94/100\n",
      "100/100 [==============================] - 15s 154ms/step - loss: 0.0182 - acc: 0.9939 - val_loss: 8.5416e-04 - val_acc: 1.0000\n",
      "Epoch 95/100\n",
      "100/100 [==============================] - 15s 153ms/step - loss: 0.0163 - acc: 0.9946 - val_loss: 0.0014 - val_acc: 0.9994\n",
      "Epoch 96/100\n",
      "100/100 [==============================] - 15s 152ms/step - loss: 0.0176 - acc: 0.9943 - val_loss: 4.4153e-04 - val_acc: 1.0000\n",
      "Epoch 97/100\n",
      "100/100 [==============================] - 16s 155ms/step - loss: 0.0176 - acc: 0.9942 - val_loss: 0.0034 - val_acc: 0.9988\n",
      "Epoch 98/100\n",
      "100/100 [==============================] - 16s 156ms/step - loss: 0.0179 - acc: 0.9942 - val_loss: 0.0015 - val_acc: 0.9994\n",
      "Epoch 99/100\n",
      "100/100 [==============================] - 15s 153ms/step - loss: 0.0180 - acc: 0.9943 - val_loss: 0.0045 - val_acc: 0.9981\n",
      "Epoch 100/100\n",
      "100/100 [==============================] - 16s 155ms/step - loss: 0.0175 - acc: 0.9942 - val_loss: 0.0030 - val_acc: 0.9988\n"
     ]
    }
   ],
   "source": [
    "history = model.fit_generator(train_datagen.flow(train_image,train_label,batch_size=batch_size),\n",
    "                              steps_per_epoch=100,\n",
    "                              epochs=epochs,\n",
    "                              callbacks=[LearningRateScheduler(lr_decay)],\n",
    "                              validation_data=test_datagen.flow(X_val,Y_val),\n",
    "                              validation_steps=50)"
   ]
  },
  {
   "cell_type": "code",
   "execution_count": 21,
   "metadata": {},
   "outputs": [],
   "source": [
    "additional = pd.read_csv('Dig-MNIST.csv')\n",
    "additional_img = additional.iloc[:,1:].to_numpy()\n",
    "additional_img = additional_img.reshape(-1,28,28,1)/255.0\n",
    "additional_label = additional['label'].to_numpy()\n",
    "additional_label = to_categorical(additional_label,10)"
   ]
  },
  {
   "cell_type": "code",
   "execution_count": 53,
   "metadata": {},
   "outputs": [
    {
     "name": "stdout",
     "output_type": "stream",
     "text": [
      "10240/10240 [==============================] - 2s 163us/step\n"
     ]
    }
   ],
   "source": [
    "results = model.evaluate(additional_img,additional_label)"
   ]
  },
  {
   "cell_type": "code",
   "execution_count": 54,
   "metadata": {},
   "outputs": [
    {
     "data": {
      "text/plain": [
       "[0.40819247491435817, 0.91044921875]"
      ]
     },
     "execution_count": 54,
     "metadata": {},
     "output_type": "execute_result"
    }
   ],
   "source": [
    "results"
   ]
  },
  {
   "cell_type": "code",
   "execution_count": 64,
   "metadata": {},
   "outputs": [
    {
     "data": {
      "text/plain": [
       "0.912109375"
      ]
     },
     "execution_count": 64,
     "metadata": {},
     "output_type": "execute_result"
    }
   ],
   "source": [
    "acc_drop_5 = results[1]\n",
    "acc_drop_5"
   ]
  },
  {
   "cell_type": "code",
   "execution_count": 53,
   "metadata": {},
   "outputs": [
    {
     "data": {
      "text/plain": [
       "0.90458984375"
      ]
     },
     "execution_count": 53,
     "metadata": {},
     "output_type": "execute_result"
    }
   ],
   "source": [
    "acc_drop_3 = results[1]\n",
    "acc_drop_3"
   ]
  },
  {
   "cell_type": "code",
   "execution_count": 43,
   "metadata": {},
   "outputs": [
    {
     "data": {
      "text/plain": [
       "0.89111328125"
      ]
     },
     "execution_count": 43,
     "metadata": {},
     "output_type": "execute_result"
    }
   ],
   "source": [
    "acc_flatten_512 = results[1]\n",
    "acc_flatten_512"
   ]
  },
  {
   "cell_type": "code",
   "execution_count": 25,
   "metadata": {},
   "outputs": [
    {
     "data": {
      "text/plain": [
       "0.89765625"
      ]
     },
     "execution_count": 25,
     "metadata": {},
     "output_type": "execute_result"
    }
   ],
   "source": [
    "acc_half_cnn = results[1]\n",
    "acc_half_cnn"
   ]
  },
  {
   "cell_type": "code",
   "execution_count": 44,
   "metadata": {},
   "outputs": [
    {
     "data": {
      "text/plain": [
       "0.9158203125"
      ]
     },
     "execution_count": 44,
     "metadata": {},
     "output_type": "execute_result"
    }
   ],
   "source": [
    "acc_drop_5_batch_2048_epoch_100 = results[1]\n",
    "acc_drop_5_batch_2048_epoch_100"
   ]
  },
  {
   "cell_type": "code",
   "execution_count": 34,
   "metadata": {},
   "outputs": [
    {
     "data": {
      "text/plain": [
       "0.91005859375"
      ]
     },
     "execution_count": 34,
     "metadata": {},
     "output_type": "execute_result"
    }
   ],
   "source": [
    "acc_drop_5_batch_2048 = results[1]\n",
    "acc_drop_5_batch_2048"
   ]
  },
  {
   "cell_type": "code",
   "execution_count": 24,
   "metadata": {},
   "outputs": [
    {
     "data": {
      "text/plain": [
       "0.8955078125"
      ]
     },
     "execution_count": 24,
     "metadata": {},
     "output_type": "execute_result"
    }
   ],
   "source": [
    "acc_batch_2048 = results[1]\n",
    "acc_batch_2048"
   ]
  },
  {
   "cell_type": "code",
   "execution_count": 55,
   "metadata": {},
   "outputs": [
    {
     "data": {
      "text/plain": [
       "0.91044921875"
      ]
     },
     "execution_count": 55,
     "metadata": {},
     "output_type": "execute_result"
    }
   ],
   "source": [
    "acc_drop_5_batch_1024_epoch_100 = results[1]\n",
    "acc_drop_5_batch_1024_epoch_100"
   ]
  },
  {
   "cell_type": "code",
   "execution_count": 75,
   "metadata": {},
   "outputs": [
    {
     "data": {
      "text/plain": [
       "0.899609375"
      ]
     },
     "execution_count": 75,
     "metadata": {},
     "output_type": "execute_result"
    }
   ],
   "source": [
    "acc_batch_1024 = results[1]\n",
    "acc_batch_1024"
   ]
  },
  {
   "cell_type": "code",
   "execution_count": 46,
   "metadata": {},
   "outputs": [
    {
     "data": {
      "text/plain": [
       "0.905078125"
      ]
     },
     "execution_count": 46,
     "metadata": {},
     "output_type": "execute_result"
    }
   ],
   "source": [
    "acc_batch_512 = results[1]\n",
    "acc_batch_512"
   ]
  },
  {
   "cell_type": "code",
   "execution_count": 33,
   "metadata": {},
   "outputs": [],
   "source": [
    "model.save('1.h5')"
   ]
  },
  {
   "cell_type": "code",
   "execution_count": 158,
   "metadata": {},
   "outputs": [
    {
     "data": {
      "text/plain": [
       "array([[9.6058009e-15, 3.4381986e-14, 4.3032892e-14, ..., 1.8017253e-12,\n",
       "        3.1306900e-17, 7.1660877e-16],\n",
       "       [9.9999523e-01, 2.7423143e-06, 2.8258615e-08, ..., 8.1735568e-10,\n",
       "        1.8645379e-06, 1.2458990e-07],\n",
       "       [6.6916428e-08, 1.1835208e-10, 9.9999988e-01, ..., 4.2517895e-11,\n",
       "        6.1429244e-09, 1.5720938e-10],\n",
       "       ...,\n",
       "       [3.0153946e-04, 9.9969840e-01, 1.7323911e-08, ..., 2.6570643e-08,\n",
       "        1.2274781e-07, 5.1143401e-09],\n",
       "       [1.6568856e-09, 1.4397329e-09, 8.7652698e-12, ..., 3.6325822e-08,\n",
       "        1.4087655e-07, 3.9557017e-05],\n",
       "       [8.7110908e-14, 2.6492854e-13, 1.1976689e-13, ..., 2.7153724e-13,\n",
       "        1.7254408e-15, 5.4309385e-15]], dtype=float32)"
      ]
     },
     "execution_count": 158,
     "metadata": {},
     "output_type": "execute_result"
    }
   ],
   "source": [
    "results=model.predict(test_image/255.)\n",
    "results"
   ]
  },
  {
   "cell_type": "code",
   "execution_count": 159,
   "metadata": {},
   "outputs": [
    {
     "data": {
      "text/plain": [
       "0       3\n",
       "1       0\n",
       "2       2\n",
       "3       6\n",
       "4       7\n",
       "       ..\n",
       "4995    1\n",
       "4996    0\n",
       "4997    1\n",
       "4998    6\n",
       "4999    3\n",
       "Name: label, Length: 5000, dtype: int64"
      ]
     },
     "execution_count": 159,
     "metadata": {},
     "output_type": "execute_result"
    }
   ],
   "source": [
    "results=np.argmax(results,axis=1)\n",
    "results=pd.Series(results,name='label')\n",
    "results"
   ]
  },
  {
   "cell_type": "code",
   "execution_count": 160,
   "metadata": {},
   "outputs": [],
   "source": [
    "sample['label'] = results\n",
    "sample.to_csv(\"submission.csv\",index=False)"
   ]
  },
  {
   "cell_type": "code",
   "execution_count": 161,
   "metadata": {},
   "outputs": [
    {
     "data": {
      "text/html": [
       "<div>\n",
       "<style scoped>\n",
       "    .dataframe tbody tr th:only-of-type {\n",
       "        vertical-align: middle;\n",
       "    }\n",
       "\n",
       "    .dataframe tbody tr th {\n",
       "        vertical-align: top;\n",
       "    }\n",
       "\n",
       "    .dataframe thead th {\n",
       "        text-align: right;\n",
       "    }\n",
       "</style>\n",
       "<table border=\"1\" class=\"dataframe\">\n",
       "  <thead>\n",
       "    <tr style=\"text-align: right;\">\n",
       "      <th></th>\n",
       "      <th>id</th>\n",
       "      <th>label</th>\n",
       "    </tr>\n",
       "  </thead>\n",
       "  <tbody>\n",
       "    <tr>\n",
       "      <th>0</th>\n",
       "      <td>0</td>\n",
       "      <td>3</td>\n",
       "    </tr>\n",
       "    <tr>\n",
       "      <th>1</th>\n",
       "      <td>1</td>\n",
       "      <td>0</td>\n",
       "    </tr>\n",
       "    <tr>\n",
       "      <th>2</th>\n",
       "      <td>2</td>\n",
       "      <td>2</td>\n",
       "    </tr>\n",
       "    <tr>\n",
       "      <th>3</th>\n",
       "      <td>3</td>\n",
       "      <td>6</td>\n",
       "    </tr>\n",
       "    <tr>\n",
       "      <th>4</th>\n",
       "      <td>4</td>\n",
       "      <td>7</td>\n",
       "    </tr>\n",
       "    <tr>\n",
       "      <th>...</th>\n",
       "      <td>...</td>\n",
       "      <td>...</td>\n",
       "    </tr>\n",
       "    <tr>\n",
       "      <th>4995</th>\n",
       "      <td>4995</td>\n",
       "      <td>1</td>\n",
       "    </tr>\n",
       "    <tr>\n",
       "      <th>4996</th>\n",
       "      <td>4996</td>\n",
       "      <td>0</td>\n",
       "    </tr>\n",
       "    <tr>\n",
       "      <th>4997</th>\n",
       "      <td>4997</td>\n",
       "      <td>1</td>\n",
       "    </tr>\n",
       "    <tr>\n",
       "      <th>4998</th>\n",
       "      <td>4998</td>\n",
       "      <td>6</td>\n",
       "    </tr>\n",
       "    <tr>\n",
       "      <th>4999</th>\n",
       "      <td>4999</td>\n",
       "      <td>3</td>\n",
       "    </tr>\n",
       "  </tbody>\n",
       "</table>\n",
       "<p>5000 rows × 2 columns</p>\n",
       "</div>"
      ],
      "text/plain": [
       "        id  label\n",
       "0        0      3\n",
       "1        1      0\n",
       "2        2      2\n",
       "3        3      6\n",
       "4        4      7\n",
       "...    ...    ...\n",
       "4995  4995      1\n",
       "4996  4996      0\n",
       "4997  4997      1\n",
       "4998  4998      6\n",
       "4999  4999      3\n",
       "\n",
       "[5000 rows x 2 columns]"
      ]
     },
     "execution_count": 161,
     "metadata": {},
     "output_type": "execute_result"
    }
   ],
   "source": [
    "sample"
   ]
  },
  {
   "cell_type": "code",
   "execution_count": 163,
   "metadata": {},
   "outputs": [
    {
     "data": {
      "text/plain": [
       "[0.5074403497721505, 0.90107421875]"
      ]
     },
     "execution_count": 163,
     "metadata": {},
     "output_type": "execute_result"
    }
   ],
   "source": [
    "results"
   ]
  },
  {
   "cell_type": "code",
   "execution_count": 103,
   "metadata": {},
   "outputs": [
    {
     "data": {
      "text/html": [
       "<div>\n",
       "<style scoped>\n",
       "    .dataframe tbody tr th:only-of-type {\n",
       "        vertical-align: middle;\n",
       "    }\n",
       "\n",
       "    .dataframe tbody tr th {\n",
       "        vertical-align: top;\n",
       "    }\n",
       "\n",
       "    .dataframe thead th {\n",
       "        text-align: right;\n",
       "    }\n",
       "</style>\n",
       "<table border=\"1\" class=\"dataframe\">\n",
       "  <thead>\n",
       "    <tr style=\"text-align: right;\">\n",
       "      <th></th>\n",
       "      <th>id</th>\n",
       "      <th>label</th>\n",
       "    </tr>\n",
       "  </thead>\n",
       "  <tbody>\n",
       "    <tr>\n",
       "      <th>0</th>\n",
       "      <td>0</td>\n",
       "      <td>3</td>\n",
       "    </tr>\n",
       "    <tr>\n",
       "      <th>1</th>\n",
       "      <td>1</td>\n",
       "      <td>0</td>\n",
       "    </tr>\n",
       "    <tr>\n",
       "      <th>2</th>\n",
       "      <td>2</td>\n",
       "      <td>2</td>\n",
       "    </tr>\n",
       "    <tr>\n",
       "      <th>3</th>\n",
       "      <td>3</td>\n",
       "      <td>6</td>\n",
       "    </tr>\n",
       "    <tr>\n",
       "      <th>4</th>\n",
       "      <td>4</td>\n",
       "      <td>7</td>\n",
       "    </tr>\n",
       "    <tr>\n",
       "      <th>...</th>\n",
       "      <td>...</td>\n",
       "      <td>...</td>\n",
       "    </tr>\n",
       "    <tr>\n",
       "      <th>4995</th>\n",
       "      <td>4995</td>\n",
       "      <td>1</td>\n",
       "    </tr>\n",
       "    <tr>\n",
       "      <th>4996</th>\n",
       "      <td>4996</td>\n",
       "      <td>1</td>\n",
       "    </tr>\n",
       "    <tr>\n",
       "      <th>4997</th>\n",
       "      <td>4997</td>\n",
       "      <td>1</td>\n",
       "    </tr>\n",
       "    <tr>\n",
       "      <th>4998</th>\n",
       "      <td>4998</td>\n",
       "      <td>6</td>\n",
       "    </tr>\n",
       "    <tr>\n",
       "      <th>4999</th>\n",
       "      <td>4999</td>\n",
       "      <td>3</td>\n",
       "    </tr>\n",
       "  </tbody>\n",
       "</table>\n",
       "<p>5000 rows × 2 columns</p>\n",
       "</div>"
      ],
      "text/plain": [
       "        id  label\n",
       "0        0      3\n",
       "1        1      0\n",
       "2        2      2\n",
       "3        3      6\n",
       "4        4      7\n",
       "...    ...    ...\n",
       "4995  4995      1\n",
       "4996  4996      1\n",
       "4997  4997      1\n",
       "4998  4998      6\n",
       "4999  4999      3\n",
       "\n",
       "[5000 rows x 2 columns]"
      ]
     },
     "execution_count": 103,
     "metadata": {},
     "output_type": "execute_result"
    }
   ],
   "source": [
    "sample"
   ]
  },
  {
   "cell_type": "code",
   "execution_count": null,
   "metadata": {},
   "outputs": [],
   "source": []
  }
 ],
 "metadata": {
  "kernelspec": {
   "display_name": "Python 3",
   "language": "python",
   "name": "python3"
  },
  "language_info": {
   "codemirror_mode": {
    "name": "ipython",
    "version": 3
   },
   "file_extension": ".py",
   "mimetype": "text/x-python",
   "name": "python",
   "nbconvert_exporter": "python",
   "pygments_lexer": "ipython3",
   "version": "3.6.8"
  }
 },
 "nbformat": 4,
 "nbformat_minor": 2
}
