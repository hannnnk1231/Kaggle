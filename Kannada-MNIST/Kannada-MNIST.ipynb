{
 "cells": [
  {
   "cell_type": "code",
   "execution_count": 2,
   "metadata": {},
   "outputs": [],
   "source": [
    "import numpy as np\n",
    "import pandas as pd\n",
    "import matplotlib.pyplot as plt\n",
    "from sklearn.model_selection import train_test_split\n",
    "import keras\n",
    "from keras.utils.np_utils import to_categorical\n",
    "from keras import models\n",
    "from keras import layers\n",
    "from keras.preprocessing.image import ImageDataGenerator\n",
    "from keras.optimizers import RMSprop\n",
    "from keras.callbacks import LearningRateScheduler"
   ]
  },
  {
   "cell_type": "code",
   "execution_count": 3,
   "metadata": {},
   "outputs": [],
   "source": [
    "import tensorflow as tf\n",
    "config=tf.ConfigProto()\n",
    "config.gpu_options.allow_growth = True\n",
    "session=tf.Session(config=config)"
   ]
  },
  {
   "cell_type": "code",
   "execution_count": 4,
   "metadata": {},
   "outputs": [],
   "source": [
    "train = pd.read_csv('train.csv')\n",
    "test = pd.read_csv('test.csv')"
   ]
  },
  {
   "cell_type": "code",
   "execution_count": 22,
   "metadata": {},
   "outputs": [],
   "source": [
    "sample = pd.read_csv('sample_submission.csv')"
   ]
  },
  {
   "cell_type": "code",
   "execution_count": 6,
   "metadata": {},
   "outputs": [
    {
     "data": {
      "text/html": [
       "<div>\n",
       "<style scoped>\n",
       "    .dataframe tbody tr th:only-of-type {\n",
       "        vertical-align: middle;\n",
       "    }\n",
       "\n",
       "    .dataframe tbody tr th {\n",
       "        vertical-align: top;\n",
       "    }\n",
       "\n",
       "    .dataframe thead th {\n",
       "        text-align: right;\n",
       "    }\n",
       "</style>\n",
       "<table border=\"1\" class=\"dataframe\">\n",
       "  <thead>\n",
       "    <tr style=\"text-align: right;\">\n",
       "      <th></th>\n",
       "      <th>id</th>\n",
       "      <th>label</th>\n",
       "    </tr>\n",
       "  </thead>\n",
       "  <tbody>\n",
       "    <tr>\n",
       "      <th>0</th>\n",
       "      <td>0</td>\n",
       "      <td>5</td>\n",
       "    </tr>\n",
       "    <tr>\n",
       "      <th>1</th>\n",
       "      <td>1</td>\n",
       "      <td>5</td>\n",
       "    </tr>\n",
       "    <tr>\n",
       "      <th>2</th>\n",
       "      <td>2</td>\n",
       "      <td>5</td>\n",
       "    </tr>\n",
       "    <tr>\n",
       "      <th>3</th>\n",
       "      <td>3</td>\n",
       "      <td>5</td>\n",
       "    </tr>\n",
       "    <tr>\n",
       "      <th>4</th>\n",
       "      <td>4</td>\n",
       "      <td>5</td>\n",
       "    </tr>\n",
       "    <tr>\n",
       "      <th>...</th>\n",
       "      <td>...</td>\n",
       "      <td>...</td>\n",
       "    </tr>\n",
       "    <tr>\n",
       "      <th>4995</th>\n",
       "      <td>4995</td>\n",
       "      <td>5</td>\n",
       "    </tr>\n",
       "    <tr>\n",
       "      <th>4996</th>\n",
       "      <td>4996</td>\n",
       "      <td>5</td>\n",
       "    </tr>\n",
       "    <tr>\n",
       "      <th>4997</th>\n",
       "      <td>4997</td>\n",
       "      <td>5</td>\n",
       "    </tr>\n",
       "    <tr>\n",
       "      <th>4998</th>\n",
       "      <td>4998</td>\n",
       "      <td>5</td>\n",
       "    </tr>\n",
       "    <tr>\n",
       "      <th>4999</th>\n",
       "      <td>4999</td>\n",
       "      <td>5</td>\n",
       "    </tr>\n",
       "  </tbody>\n",
       "</table>\n",
       "<p>5000 rows × 2 columns</p>\n",
       "</div>"
      ],
      "text/plain": [
       "        id  label\n",
       "0        0      5\n",
       "1        1      5\n",
       "2        2      5\n",
       "3        3      5\n",
       "4        4      5\n",
       "...    ...    ...\n",
       "4995  4995      5\n",
       "4996  4996      5\n",
       "4997  4997      5\n",
       "4998  4998      5\n",
       "4999  4999      5\n",
       "\n",
       "[5000 rows x 2 columns]"
      ]
     },
     "execution_count": 6,
     "metadata": {},
     "output_type": "execute_result"
    }
   ],
   "source": [
    "sample"
   ]
  },
  {
   "cell_type": "code",
   "execution_count": 7,
   "metadata": {},
   "outputs": [
    {
     "data": {
      "text/plain": [
       "(60000, 785)"
      ]
     },
     "execution_count": 7,
     "metadata": {},
     "output_type": "execute_result"
    }
   ],
   "source": [
    "train.shape"
   ]
  },
  {
   "cell_type": "code",
   "execution_count": 8,
   "metadata": {},
   "outputs": [],
   "source": [
    "train_label = train['label']\n",
    "train_label = to_categorical(train_label,10)\n",
    "train_image = train.iloc[:,1:].to_numpy()\n",
    "test_image = test.iloc[:,1:].to_numpy()\n",
    "train_image = train_image.reshape(-1,28,28,1)\n",
    "test_image = test_image.reshape(-1,28,28,1)"
   ]
  },
  {
   "cell_type": "code",
   "execution_count": 9,
   "metadata": {},
   "outputs": [],
   "source": [
    "X_train, X_val, Y_train, Y_val = train_test_split(train_image, train_label, test_size = 0.1, random_state=42)"
   ]
  },
  {
   "cell_type": "code",
   "execution_count": 10,
   "metadata": {},
   "outputs": [
    {
     "data": {
      "text/plain": [
       "<matplotlib.image.AxesImage at 0x7efb2c2f6278>"
      ]
     },
     "execution_count": 10,
     "metadata": {},
     "output_type": "execute_result"
    },
    {
     "data": {
      "image/png": "[encoded data removed]",
      "text/plain": [
       "<matplotlib.figure.Figure at 0x7efb340d0b38>"
      ]
     },
     "metadata": {
      "needs_background": "light"
     },
     "output_type": "display_data"
    }
   ],
   "source": [
    "plt.imshow(X_train[1][:,:,0])"
   ]
  },
  {
   "cell_type": "code",
   "execution_count": 11,
   "metadata": {},
   "outputs": [
    {
     "data": {
      "text/plain": [
       "(6000, 28, 28, 1)"
      ]
     },
     "execution_count": 11,
     "metadata": {},
     "output_type": "execute_result"
    }
   ],
   "source": [
    "X_val.shape"
   ]
  },
  {
   "cell_type": "code",
   "execution_count": 12,
   "metadata": {},
   "outputs": [],
   "source": [
    "train_datagen = ImageDataGenerator(rescale = 1./255.,\n",
    "                                   rotation_range = 10,\n",
    "                                   width_shift_range = 0.25,\n",
    "                                   height_shift_range = 0.25,\n",
    "                                   shear_range = 0.1,\n",
    "                                   zoom_range = 0.25,\n",
    "                                   horizontal_flip = False)"
   ]
  },
  {
   "cell_type": "code",
   "execution_count": 13,
   "metadata": {},
   "outputs": [],
   "source": [
    "test_datagen = ImageDataGenerator(rescale = 1./255.)"
   ]
  },
  {
   "cell_type": "code",
   "execution_count": 47,
   "metadata": {},
   "outputs": [],
   "source": [
    "keras.backend.clear_session()"
   ]
  },
  {
   "cell_type": "code",
   "execution_count": 48,
   "metadata": {},
   "outputs": [],
   "source": [
    "model = models.Sequential()\n",
    "model.add(layers.Conv2D(64, (3,3), padding = 'same', input_shape = (28,28,1)))\n",
    "model.add(layers.BatchNormalization(momentum=0.5, epsilon=1e-5, gamma_initializer=\"uniform\"))\n",
    "model.add(layers.LeakyReLU(alpha=0.1))\n",
    "model.add(layers.Conv2D(64, (3,3), padding = 'same'))\n",
    "model.add(layers.BatchNormalization(momentum=0.5, epsilon=1e-5, gamma_initializer=\"uniform\"))\n",
    "model.add(layers.LeakyReLU(alpha=0.1))\n",
    "\n",
    "model.add(layers.MaxPool2D(2,2))\n",
    "model.add(layers.Dropout(0.2))\n",
    "\n",
    "model.add(layers.Conv2D(128, (3,3), padding = 'same'))\n",
    "model.add(layers.BatchNormalization(momentum=0.5, epsilon=1e-5, gamma_initializer=\"uniform\"))\n",
    "model.add(layers.LeakyReLU(alpha=0.1))\n",
    "model.add(layers.Conv2D(128, (3,3), padding = 'same'))\n",
    "model.add(layers.BatchNormalization(momentum=0.5, epsilon=1e-5, gamma_initializer=\"uniform\"))\n",
    "model.add(layers.LeakyReLU(alpha=0.1))\n",
    "\n",
    "model.add(layers.MaxPool2D(2,2))\n",
    "model.add(layers.Dropout(0.2))\n",
    "\n",
    "model.add(layers.Conv2D(256, (3,3), padding = 'same'))\n",
    "model.add(layers.BatchNormalization(momentum=0.5, epsilon=1e-5, gamma_initializer=\"uniform\"))\n",
    "model.add(layers.LeakyReLU(alpha=0.1))\n",
    "model.add(layers.Conv2D(256, (3,3), padding = 'same'))\n",
    "model.add(layers.BatchNormalization(momentum=0.5, epsilon=1e-5, gamma_initializer=\"uniform\"))\n",
    "model.add(layers.LeakyReLU(alpha=0.1))\n",
    "\n",
    "model.add(layers.MaxPool2D(2,2))\n",
    "model.add(layers.Dropout(0.2))\n",
    "\n",
    "model.add(layers.Flatten())\n",
    "model.add(layers.Dense(256))\n",
    "model.add(layers.LeakyReLU(alpha=0.1))\n",
    "model.add(layers.BatchNormalization())\n",
    "model.add(layers.Dense(10, activation = 'softmax'))"
   ]
  },
  {
   "cell_type": "code",
   "execution_count": 49,
   "metadata": {},
   "outputs": [
    {
     "name": "stdout",
     "output_type": "stream",
     "text": [
      "Model: \"sequential_1\"\n",
      "_________________________________________________________________\n",
      "Layer (type)                 Output Shape              Param #   \n",
      "=================================================================\n",
      "conv2d_1 (Conv2D)            (None, 28, 28, 64)        640       \n",
      "_________________________________________________________________\n",
      "batch_normalization_1 (Batch (None, 28, 28, 64)        256       \n",
      "_________________________________________________________________\n",
      "leaky_re_lu_1 (LeakyReLU)    (None, 28, 28, 64)        0         \n",
      "_________________________________________________________________\n",
      "conv2d_2 (Conv2D)            (None, 28, 28, 64)        36928     \n",
      "_________________________________________________________________\n",
      "batch_normalization_2 (Batch (None, 28, 28, 64)        256       \n",
      "_________________________________________________________________\n",
      "leaky_re_lu_2 (LeakyReLU)    (None, 28, 28, 64)        0         \n",
      "_________________________________________________________________\n",
      "max_pooling2d_1 (MaxPooling2 (None, 14, 14, 64)        0         \n",
      "_________________________________________________________________\n",
      "dropout_1 (Dropout)          (None, 14, 14, 64)        0         \n",
      "_________________________________________________________________\n",
      "conv2d_3 (Conv2D)            (None, 14, 14, 128)       73856     \n",
      "_________________________________________________________________\n",
      "batch_normalization_3 (Batch (None, 14, 14, 128)       512       \n",
      "_________________________________________________________________\n",
      "leaky_re_lu_3 (LeakyReLU)    (None, 14, 14, 128)       0         \n",
      "_________________________________________________________________\n",
      "conv2d_4 (Conv2D)            (None, 14, 14, 128)       147584    \n",
      "_________________________________________________________________\n",
      "batch_normalization_4 (Batch (None, 14, 14, 128)       512       \n",
      "_________________________________________________________________\n",
      "leaky_re_lu_4 (LeakyReLU)    (None, 14, 14, 128)       0         \n",
      "_________________________________________________________________\n",
      "max_pooling2d_2 (MaxPooling2 (None, 7, 7, 128)         0         \n",
      "_________________________________________________________________\n",
      "dropout_2 (Dropout)          (None, 7, 7, 128)         0         \n",
      "_________________________________________________________________\n",
      "conv2d_5 (Conv2D)            (None, 7, 7, 256)         295168    \n",
      "_________________________________________________________________\n",
      "batch_normalization_5 (Batch (None, 7, 7, 256)         1024      \n",
      "_________________________________________________________________\n",
      "leaky_re_lu_5 (LeakyReLU)    (None, 7, 7, 256)         0         \n",
      "_________________________________________________________________\n",
      "conv2d_6 (Conv2D)            (None, 7, 7, 256)         590080    \n",
      "_________________________________________________________________\n",
      "batch_normalization_6 (Batch (None, 7, 7, 256)         1024      \n",
      "_________________________________________________________________\n",
      "leaky_re_lu_6 (LeakyReLU)    (None, 7, 7, 256)         0         \n",
      "_________________________________________________________________\n",
      "max_pooling2d_3 (MaxPooling2 (None, 3, 3, 256)         0         \n",
      "_________________________________________________________________\n",
      "dropout_3 (Dropout)          (None, 3, 3, 256)         0         \n",
      "_________________________________________________________________\n",
      "flatten_1 (Flatten)          (None, 2304)              0         \n",
      "_________________________________________________________________\n",
      "dense_1 (Dense)              (None, 256)               590080    \n",
      "_________________________________________________________________\n",
      "leaky_re_lu_7 (LeakyReLU)    (None, 256)               0         \n",
      "_________________________________________________________________\n",
      "batch_normalization_7 (Batch (None, 256)               1024      \n",
      "_________________________________________________________________\n",
      "dense_2 (Dense)              (None, 10)                2570      \n",
      "=================================================================\n",
      "Total params: 1,741,514\n",
      "Trainable params: 1,739,210\n",
      "Non-trainable params: 2,304\n",
      "_________________________________________________________________\n"
     ]
    }
   ],
   "source": [
    "model.summary()"
   ]
  },
  {
   "cell_type": "code",
   "execution_count": 57,
   "metadata": {},
   "outputs": [],
   "source": [
    "initial_learningrate=2e-3\n",
    "batch_size = 1024\n",
    "epochs = 50"
   ]
  },
  {
   "cell_type": "code",
   "execution_count": 51,
   "metadata": {},
   "outputs": [],
   "source": [
    "def lr_decay(epoch):#lrv\n",
    "    return initial_learningrate * 0.99 ** epoch"
   ]
  },
  {
   "cell_type": "code",
   "execution_count": 52,
   "metadata": {},
   "outputs": [],
   "source": [
    "import tensorflow as tf\n",
    "config=tf.ConfigProto()\n",
    "config.gpu_options.allow_growth = True\n",
    "session=tf.Session(config=config)\n",
    "\n",
    "model.compile(optimizer = RMSprop(lr=initial_learningrate) , loss = \"categorical_crossentropy\", metrics=[\"accuracy\"])"
   ]
  },
  {
   "cell_type": "code",
   "execution_count": 53,
   "metadata": {},
   "outputs": [
    {
     "name": "stdout",
     "output_type": "stream",
     "text": [
      "Epoch 1/50\n",
      "100/100 [==============================] - 39s 388ms/step - loss: 0.5669 - acc: 0.8106 - val_loss: 0.0191 - val_acc: 0.9938\n",
      "Epoch 2/50\n",
      "100/100 [==============================] - 36s 364ms/step - loss: 0.0951 - acc: 0.9697 - val_loss: 0.0996 - val_acc: 0.9762\n",
      "Epoch 3/50\n",
      "100/100 [==============================] - 36s 362ms/step - loss: 0.0570 - acc: 0.9812 - val_loss: 0.0246 - val_acc: 0.9906\n",
      "Epoch 4/50\n",
      "100/100 [==============================] - 37s 368ms/step - loss: 0.0447 - acc: 0.9852 - val_loss: 0.0152 - val_acc: 0.9943\n",
      "Epoch 5/50\n",
      "100/100 [==============================] - 36s 363ms/step - loss: 0.0372 - acc: 0.9876 - val_loss: 0.0126 - val_acc: 0.9956\n",
      "Epoch 6/50\n",
      "100/100 [==============================] - 35s 352ms/step - loss: 0.0356 - acc: 0.9883 - val_loss: 0.0061 - val_acc: 0.9981\n",
      "Epoch 7/50\n",
      "100/100 [==============================] - 34s 344ms/step - loss: 0.0311 - acc: 0.9899 - val_loss: 0.0164 - val_acc: 0.9931\n",
      "Epoch 8/50\n",
      "100/100 [==============================] - 36s 358ms/step - loss: 0.0287 - acc: 0.9906 - val_loss: 0.0103 - val_acc: 0.9975\n",
      "Epoch 9/50\n",
      "100/100 [==============================] - 36s 358ms/step - loss: 0.0285 - acc: 0.9907 - val_loss: 0.0089 - val_acc: 0.9962\n",
      "Epoch 10/50\n",
      "100/100 [==============================] - 35s 353ms/step - loss: 0.0265 - acc: 0.9915 - val_loss: 0.0111 - val_acc: 0.9956\n",
      "Epoch 11/50\n",
      "100/100 [==============================] - 35s 354ms/step - loss: 0.0237 - acc: 0.9920 - val_loss: 0.0043 - val_acc: 0.9981\n",
      "Epoch 12/50\n",
      "100/100 [==============================] - 35s 353ms/step - loss: 0.0240 - acc: 0.9916 - val_loss: 0.0063 - val_acc: 0.9987\n",
      "Epoch 13/50\n",
      "100/100 [==============================] - 35s 355ms/step - loss: 0.0222 - acc: 0.9927 - val_loss: 0.0038 - val_acc: 0.9988\n",
      "Epoch 14/50\n",
      "100/100 [==============================] - 36s 356ms/step - loss: 0.0229 - acc: 0.9926 - val_loss: 0.0045 - val_acc: 0.9981\n",
      "Epoch 15/50\n",
      "100/100 [==============================] - 35s 354ms/step - loss: 0.0213 - acc: 0.9929 - val_loss: 0.0094 - val_acc: 0.9962\n",
      "Epoch 16/50\n",
      "100/100 [==============================] - 36s 358ms/step - loss: 0.0211 - acc: 0.9930 - val_loss: 0.0053 - val_acc: 0.9981\n",
      "Epoch 17/50\n",
      "100/100 [==============================] - 36s 358ms/step - loss: 0.0207 - acc: 0.9933 - val_loss: 0.0108 - val_acc: 0.9975\n",
      "Epoch 18/50\n",
      "100/100 [==============================] - 36s 359ms/step - loss: 0.0199 - acc: 0.9934 - val_loss: 0.0037 - val_acc: 0.9994\n",
      "Epoch 19/50\n",
      "100/100 [==============================] - 36s 363ms/step - loss: 0.0192 - acc: 0.9935 - val_loss: 0.0021 - val_acc: 1.0000\n",
      "Epoch 20/50\n",
      "100/100 [==============================] - 37s 366ms/step - loss: 0.0184 - acc: 0.9938 - val_loss: 0.0027 - val_acc: 0.9994\n",
      "Epoch 21/50\n",
      "100/100 [==============================] - 37s 368ms/step - loss: 0.0178 - acc: 0.9940 - val_loss: 9.7580e-04 - val_acc: 1.0000\n",
      "Epoch 22/50\n",
      "100/100 [==============================] - 37s 367ms/step - loss: 0.0174 - acc: 0.9942 - val_loss: 0.0060 - val_acc: 0.9981\n",
      "Epoch 23/50\n",
      "100/100 [==============================] - 36s 358ms/step - loss: 0.0179 - acc: 0.9942 - val_loss: 0.0051 - val_acc: 0.9981\n",
      "Epoch 24/50\n",
      "100/100 [==============================] - 36s 361ms/step - loss: 0.0165 - acc: 0.9945 - val_loss: 5.0487e-04 - val_acc: 1.0000\n",
      "Epoch 25/50\n",
      "100/100 [==============================] - 35s 346ms/step - loss: 0.0172 - acc: 0.9941 - val_loss: 0.0045 - val_acc: 0.9988\n",
      "Epoch 26/50\n",
      "100/100 [==============================] - 34s 342ms/step - loss: 0.0169 - acc: 0.9942 - val_loss: 0.0017 - val_acc: 0.9994\n",
      "Epoch 27/50\n",
      "100/100 [==============================] - 35s 346ms/step - loss: 0.0170 - acc: 0.9942 - val_loss: 0.0038 - val_acc: 0.9981\n",
      "Epoch 28/50\n",
      "100/100 [==============================] - 35s 348ms/step - loss: 0.0163 - acc: 0.9944 - val_loss: 6.8997e-04 - val_acc: 1.0000\n",
      "Epoch 29/50\n",
      "100/100 [==============================] - 34s 345ms/step - loss: 0.0169 - acc: 0.9942 - val_loss: 0.0019 - val_acc: 0.9988\n",
      "Epoch 30/50\n",
      "100/100 [==============================] - 35s 355ms/step - loss: 0.0152 - acc: 0.9949 - val_loss: 0.0011 - val_acc: 1.0000\n",
      "Epoch 31/50\n",
      "100/100 [==============================] - 36s 356ms/step - loss: 0.0160 - acc: 0.9947 - val_loss: 7.0366e-04 - val_acc: 1.0000\n",
      "Epoch 32/50\n",
      "100/100 [==============================] - 36s 357ms/step - loss: 0.0154 - acc: 0.9948 - val_loss: 0.0015 - val_acc: 1.0000\n",
      "Epoch 33/50\n",
      "100/100 [==============================] - 36s 358ms/step - loss: 0.0156 - acc: 0.9947 - val_loss: 3.3730e-04 - val_acc: 1.0000\n",
      "Epoch 34/50\n",
      "100/100 [==============================] - 35s 353ms/step - loss: 0.0151 - acc: 0.9950 - val_loss: 0.0023 - val_acc: 0.9987\n",
      "Epoch 35/50\n",
      "100/100 [==============================] - 36s 360ms/step - loss: 0.0149 - acc: 0.9950 - val_loss: 0.0029 - val_acc: 0.9994\n",
      "Epoch 36/50\n",
      "100/100 [==============================] - 35s 349ms/step - loss: 0.0146 - acc: 0.9952 - val_loss: 0.0045 - val_acc: 0.9994\n",
      "Epoch 37/50\n",
      "100/100 [==============================] - 36s 362ms/step - loss: 0.0150 - acc: 0.9950 - val_loss: 0.0032 - val_acc: 0.9994\n",
      "Epoch 38/50\n",
      "100/100 [==============================] - 36s 360ms/step - loss: 0.0141 - acc: 0.9952 - val_loss: 2.7386e-04 - val_acc: 1.0000\n",
      "Epoch 39/50\n",
      "100/100 [==============================] - 35s 350ms/step - loss: 0.0140 - acc: 0.9954 - val_loss: 7.5872e-04 - val_acc: 0.9994\n",
      "Epoch 40/50\n",
      "100/100 [==============================] - 36s 362ms/step - loss: 0.0135 - acc: 0.9955 - val_loss: 0.0019 - val_acc: 0.9994\n",
      "Epoch 41/50\n",
      "100/100 [==============================] - 35s 351ms/step - loss: 0.0145 - acc: 0.9951 - val_loss: 0.0023 - val_acc: 0.9988\n",
      "Epoch 42/50\n",
      "100/100 [==============================] - 35s 353ms/step - loss: 0.0137 - acc: 0.9955 - val_loss: 0.0020 - val_acc: 0.9994\n",
      "Epoch 43/50\n",
      "100/100 [==============================] - 35s 352ms/step - loss: 0.0136 - acc: 0.9954 - val_loss: 0.0041 - val_acc: 0.9994\n",
      "Epoch 44/50\n",
      "100/100 [==============================] - 35s 350ms/step - loss: 0.0133 - acc: 0.9955 - val_loss: 0.0011 - val_acc: 0.9994\n",
      "Epoch 45/50\n",
      "100/100 [==============================] - 35s 352ms/step - loss: 0.0134 - acc: 0.9956 - val_loss: 0.0015 - val_acc: 0.9994\n",
      "Epoch 46/50\n",
      "100/100 [==============================] - 35s 353ms/step - loss: 0.0128 - acc: 0.9957 - val_loss: 0.0012 - val_acc: 0.9994\n",
      "Epoch 47/50\n",
      "100/100 [==============================] - 35s 353ms/step - loss: 0.0127 - acc: 0.9958 - val_loss: 1.6544e-04 - val_acc: 1.0000\n",
      "Epoch 48/50\n",
      "100/100 [==============================] - 35s 350ms/step - loss: 0.0124 - acc: 0.9957 - val_loss: 0.0038 - val_acc: 0.9994\n",
      "Epoch 49/50\n",
      "100/100 [==============================] - 36s 355ms/step - loss: 0.0125 - acc: 0.9956 - val_loss: 0.0010 - val_acc: 1.0000\n",
      "Epoch 50/50\n",
      "100/100 [==============================] - 35s 352ms/step - loss: 0.0121 - acc: 0.9958 - val_loss: 4.8109e-04 - val_acc: 1.0000\n"
     ]
    }
   ],
   "source": [
    "history = model.fit_generator(train_datagen.flow(train_image,train_label,batch_size=batch_size),\n",
    "                              steps_per_epoch=100,\n",
    "                              epochs=epochs,\n",
    "                              callbacks=[LearningRateScheduler(lr_decay)],\n",
    "                              validation_data=test_datagen.flow(X_val,Y_val),\n",
    "                              validation_steps=50)"
   ]
  },
  {
   "cell_type": "code",
   "execution_count": 43,
   "metadata": {},
   "outputs": [],
   "source": [
    "additional = pd.read_csv('Dig-MNIST.csv')\n",
    "additional_img = additional.iloc[:,1:].to_numpy()\n",
    "additional_img = additional_img.reshape(-1,28,28,1)/255.0\n",
    "additional_label = additional['label'].to_numpy()\n",
    "additional_label = to_categorical(additional_label,10)"
   ]
  },
  {
   "cell_type": "code",
   "execution_count": 54,
   "metadata": {},
   "outputs": [
    {
     "name": "stdout",
     "output_type": "stream",
     "text": [
      "10240/10240 [==============================] - 2s 166us/step\n"
     ]
    }
   ],
   "source": [
    "results = model.evaluate(additional_img,additional_label)"
   ]
  },
  {
   "cell_type": "code",
   "execution_count": 55,
   "metadata": {},
   "outputs": [
    {
     "data": {
      "text/plain": [
       "[0.45010774464554115, 0.91171875]"
      ]
     },
     "execution_count": 55,
     "metadata": {},
     "output_type": "execute_result"
    }
   ],
   "source": [
    "results"
   ]
  },
  {
   "cell_type": "code",
   "execution_count": 56,
   "metadata": {},
   "outputs": [
    {
     "data": {
      "text/plain": [
       "0.91171875"
      ]
     },
     "execution_count": 56,
     "metadata": {},
     "output_type": "execute_result"
    }
   ],
   "source": [
    "acc_batch_2048 = results[1]\n",
    "acc_batch_2048"
   ]
  },
  {
   "cell_type": "code",
   "execution_count": 42,
   "metadata": {},
   "outputs": [
    {
     "data": {
      "text/plain": [
       "0.91728515625"
      ]
     },
     "execution_count": 42,
     "metadata": {},
     "output_type": "execute_result"
    }
   ],
   "source": [
    "acc_batch_1024 = results[1]\n",
    "acc_batch_1024"
   ]
  },
  {
   "cell_type": "code",
   "execution_count": 46,
   "metadata": {},
   "outputs": [
    {
     "data": {
      "text/plain": [
       "0.905078125"
      ]
     },
     "execution_count": 46,
     "metadata": {},
     "output_type": "execute_result"
    }
   ],
   "source": [
    "acc_batch_512 = results[1]\n",
    "acc_batch_512"
   ]
  },
  {
   "cell_type": "code",
   "execution_count": 33,
   "metadata": {},
   "outputs": [],
   "source": [
    "model.save('1.h5')"
   ]
  },
  {
   "cell_type": "code",
   "execution_count": 158,
   "metadata": {},
   "outputs": [
    {
     "data": {
      "text/plain": [
       "array([[9.6058009e-15, 3.4381986e-14, 4.3032892e-14, ..., 1.8017253e-12,\n",
       "        3.1306900e-17, 7.1660877e-16],\n",
       "       [9.9999523e-01, 2.7423143e-06, 2.8258615e-08, ..., 8.1735568e-10,\n",
       "        1.8645379e-06, 1.2458990e-07],\n",
       "       [6.6916428e-08, 1.1835208e-10, 9.9999988e-01, ..., 4.2517895e-11,\n",
       "        6.1429244e-09, 1.5720938e-10],\n",
       "       ...,\n",
       "       [3.0153946e-04, 9.9969840e-01, 1.7323911e-08, ..., 2.6570643e-08,\n",
       "        1.2274781e-07, 5.1143401e-09],\n",
       "       [1.6568856e-09, 1.4397329e-09, 8.7652698e-12, ..., 3.6325822e-08,\n",
       "        1.4087655e-07, 3.9557017e-05],\n",
       "       [8.7110908e-14, 2.6492854e-13, 1.1976689e-13, ..., 2.7153724e-13,\n",
       "        1.7254408e-15, 5.4309385e-15]], dtype=float32)"
      ]
     },
     "execution_count": 158,
     "metadata": {},
     "output_type": "execute_result"
    }
   ],
   "source": [
    "results=model.predict(test_image/255.)\n",
    "results"
   ]
  },
  {
   "cell_type": "code",
   "execution_count": 159,
   "metadata": {},
   "outputs": [
    {
     "data": {
      "text/plain": [
       "0       3\n",
       "1       0\n",
       "2       2\n",
       "3       6\n",
       "4       7\n",
       "       ..\n",
       "4995    1\n",
       "4996    0\n",
       "4997    1\n",
       "4998    6\n",
       "4999    3\n",
       "Name: label, Length: 5000, dtype: int64"
      ]
     },
     "execution_count": 159,
     "metadata": {},
     "output_type": "execute_result"
    }
   ],
   "source": [
    "results=np.argmax(results,axis=1)\n",
    "results=pd.Series(results,name='label')\n",
    "results"
   ]
  },
  {
   "cell_type": "code",
   "execution_count": 160,
   "metadata": {},
   "outputs": [],
   "source": [
    "sample['label'] = results\n",
    "sample.to_csv(\"submission.csv\",index=False)"
   ]
  },
  {
   "cell_type": "code",
   "execution_count": 161,
   "metadata": {},
   "outputs": [
    {
     "data": {
      "text/html": [
       "<div>\n",
       "<style scoped>\n",
       "    .dataframe tbody tr th:only-of-type {\n",
       "        vertical-align: middle;\n",
       "    }\n",
       "\n",
       "    .dataframe tbody tr th {\n",
       "        vertical-align: top;\n",
       "    }\n",
       "\n",
       "    .dataframe thead th {\n",
       "        text-align: right;\n",
       "    }\n",
       "</style>\n",
       "<table border=\"1\" class=\"dataframe\">\n",
       "  <thead>\n",
       "    <tr style=\"text-align: right;\">\n",
       "      <th></th>\n",
       "      <th>id</th>\n",
       "      <th>label</th>\n",
       "    </tr>\n",
       "  </thead>\n",
       "  <tbody>\n",
       "    <tr>\n",
       "      <th>0</th>\n",
       "      <td>0</td>\n",
       "      <td>3</td>\n",
       "    </tr>\n",
       "    <tr>\n",
       "      <th>1</th>\n",
       "      <td>1</td>\n",
       "      <td>0</td>\n",
       "    </tr>\n",
       "    <tr>\n",
       "      <th>2</th>\n",
       "      <td>2</td>\n",
       "      <td>2</td>\n",
       "    </tr>\n",
       "    <tr>\n",
       "      <th>3</th>\n",
       "      <td>3</td>\n",
       "      <td>6</td>\n",
       "    </tr>\n",
       "    <tr>\n",
       "      <th>4</th>\n",
       "      <td>4</td>\n",
       "      <td>7</td>\n",
       "    </tr>\n",
       "    <tr>\n",
       "      <th>...</th>\n",
       "      <td>...</td>\n",
       "      <td>...</td>\n",
       "    </tr>\n",
       "    <tr>\n",
       "      <th>4995</th>\n",
       "      <td>4995</td>\n",
       "      <td>1</td>\n",
       "    </tr>\n",
       "    <tr>\n",
       "      <th>4996</th>\n",
       "      <td>4996</td>\n",
       "      <td>0</td>\n",
       "    </tr>\n",
       "    <tr>\n",
       "      <th>4997</th>\n",
       "      <td>4997</td>\n",
       "      <td>1</td>\n",
       "    </tr>\n",
       "    <tr>\n",
       "      <th>4998</th>\n",
       "      <td>4998</td>\n",
       "      <td>6</td>\n",
       "    </tr>\n",
       "    <tr>\n",
       "      <th>4999</th>\n",
       "      <td>4999</td>\n",
       "      <td>3</td>\n",
       "    </tr>\n",
       "  </tbody>\n",
       "</table>\n",
       "<p>5000 rows × 2 columns</p>\n",
       "</div>"
      ],
      "text/plain": [
       "        id  label\n",
       "0        0      3\n",
       "1        1      0\n",
       "2        2      2\n",
       "3        3      6\n",
       "4        4      7\n",
       "...    ...    ...\n",
       "4995  4995      1\n",
       "4996  4996      0\n",
       "4997  4997      1\n",
       "4998  4998      6\n",
       "4999  4999      3\n",
       "\n",
       "[5000 rows x 2 columns]"
      ]
     },
     "execution_count": 161,
     "metadata": {},
     "output_type": "execute_result"
    }
   ],
   "source": [
    "sample"
   ]
  },
  {
   "cell_type": "code",
   "execution_count": 163,
   "metadata": {},
   "outputs": [
    {
     "data": {
      "text/plain": [
       "[0.5074403497721505, 0.90107421875]"
      ]
     },
     "execution_count": 163,
     "metadata": {},
     "output_type": "execute_result"
    }
   ],
   "source": [
    "results"
   ]
  },
  {
   "cell_type": "code",
   "execution_count": 103,
   "metadata": {},
   "outputs": [
    {
     "data": {
      "text/html": [
       "<div>\n",
       "<style scoped>\n",
       "    .dataframe tbody tr th:only-of-type {\n",
       "        vertical-align: middle;\n",
       "    }\n",
       "\n",
       "    .dataframe tbody tr th {\n",
       "        vertical-align: top;\n",
       "    }\n",
       "\n",
       "    .dataframe thead th {\n",
       "        text-align: right;\n",
       "    }\n",
       "</style>\n",
       "<table border=\"1\" class=\"dataframe\">\n",
       "  <thead>\n",
       "    <tr style=\"text-align: right;\">\n",
       "      <th></th>\n",
       "      <th>id</th>\n",
       "      <th>label</th>\n",
       "    </tr>\n",
       "  </thead>\n",
       "  <tbody>\n",
       "    <tr>\n",
       "      <th>0</th>\n",
       "      <td>0</td>\n",
       "      <td>3</td>\n",
       "    </tr>\n",
       "    <tr>\n",
       "      <th>1</th>\n",
       "      <td>1</td>\n",
       "      <td>0</td>\n",
       "    </tr>\n",
       "    <tr>\n",
       "      <th>2</th>\n",
       "      <td>2</td>\n",
       "      <td>2</td>\n",
       "    </tr>\n",
       "    <tr>\n",
       "      <th>3</th>\n",
       "      <td>3</td>\n",
       "      <td>6</td>\n",
       "    </tr>\n",
       "    <tr>\n",
       "      <th>4</th>\n",
       "      <td>4</td>\n",
       "      <td>7</td>\n",
       "    </tr>\n",
       "    <tr>\n",
       "      <th>...</th>\n",
       "      <td>...</td>\n",
       "      <td>...</td>\n",
       "    </tr>\n",
       "    <tr>\n",
       "      <th>4995</th>\n",
       "      <td>4995</td>\n",
       "      <td>1</td>\n",
       "    </tr>\n",
       "    <tr>\n",
       "      <th>4996</th>\n",
       "      <td>4996</td>\n",
       "      <td>1</td>\n",
       "    </tr>\n",
       "    <tr>\n",
       "      <th>4997</th>\n",
       "      <td>4997</td>\n",
       "      <td>1</td>\n",
       "    </tr>\n",
       "    <tr>\n",
       "      <th>4998</th>\n",
       "      <td>4998</td>\n",
       "      <td>6</td>\n",
       "    </tr>\n",
       "    <tr>\n",
       "      <th>4999</th>\n",
       "      <td>4999</td>\n",
       "      <td>3</td>\n",
       "    </tr>\n",
       "  </tbody>\n",
       "</table>\n",
       "<p>5000 rows × 2 columns</p>\n",
       "</div>"
      ],
      "text/plain": [
       "        id  label\n",
       "0        0      3\n",
       "1        1      0\n",
       "2        2      2\n",
       "3        3      6\n",
       "4        4      7\n",
       "...    ...    ...\n",
       "4995  4995      1\n",
       "4996  4996      1\n",
       "4997  4997      1\n",
       "4998  4998      6\n",
       "4999  4999      3\n",
       "\n",
       "[5000 rows x 2 columns]"
      ]
     },
     "execution_count": 103,
     "metadata": {},
     "output_type": "execute_result"
    }
   ],
   "source": [
    "sample"
   ]
  },
  {
   "cell_type": "code",
   "execution_count": null,
   "metadata": {},
   "outputs": [],
   "source": []
  }
 ],
 "metadata": {
  "kernelspec": {
   "display_name": "Python 3",
   "language": "python",
   "name": "python3"
  },
  "language_info": {
   "codemirror_mode": {
    "name": "ipython",
    "version": 3
   },
   "file_extension": ".py",
   "mimetype": "text/x-python",
   "name": "python",
   "nbconvert_exporter": "python",
   "pygments_lexer": "ipython3",
   "version": "3.6.8"
  }
 },
 "nbformat": 4,
 "nbformat_minor": 2
}
